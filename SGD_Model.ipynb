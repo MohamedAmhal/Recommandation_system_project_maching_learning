{
  "nbformat": 4,
  "nbformat_minor": 0,
  "metadata": {
    "colab": {
      "provenance": []
    },
    "kernelspec": {
      "name": "python3",
      "display_name": "Python 3"
    },
    "language_info": {
      "name": "python"
    }
  },
  "cells": [
    {
      "cell_type": "markdown",
      "source": [],
      "metadata": {
        "id": "KHHeMnGjnKDu"
      }
    },
    {
      "cell_type": "code",
      "source": [
        "# Import Python Libraries\n",
        "import pandas as pd\n",
        "import numpy as np\n",
        "from scipy.sparse import coo_matrix\n",
        "import random"
      ],
      "metadata": {
        "id": "kTWhaWGEnLJq"
      },
      "execution_count": 48,
      "outputs": []
    },
    {
      "cell_type": "code",
      "source": [
        "# Read data and perform basic analysis\n",
        "def read_data(file_paths):\n",
        "    data_frames = []\n",
        "    for file_path in file_paths:\n",
        "        data_frames.append(pd.read_csv(file_path, sep=',', encoding=\"utf-8\"))\n",
        "    return data_frames"
      ],
      "metadata": {
        "id": "EcR2xzoZwSYE"
      },
      "execution_count": 49,
      "outputs": []
    },
    {
      "cell_type": "code",
      "source": [
        "def calculate_sparsity(matrix):\n",
        "    total_elements = matrix.size\n",
        "    zero_elements = np.count_nonzero(matrix == 0)\n",
        "    sparsity = zero_elements / total_elements\n",
        "    return sparsity"
      ],
      "metadata": {
        "id": "Y1pj-IKJPS3p"
      },
      "execution_count": 50,
      "outputs": []
    },
    {
      "cell_type": "code",
      "source": [
        "# Collaborative Filtering using Stochastic Gradient Descent\n",
        "class SGDRecommender:\n",
        "    def __init__(self,   n_epochs=10):\n",
        "        self.n_epochs = n_epochs\n",
        "\n",
        "\n",
        "    def fit(self, R, K, lamda=0.02, gamma=0.001):\n",
        "        M,N = R.shape\n",
        "        P = np.random.rand(M,K)\n",
        "        Q = np.random.rand(K,N)\n",
        "\n",
        "\n",
        "        # Compute initial RMSE\n",
        "        rmse = np.sqrt(self.error(R, P, Q, lamda) / len(R.data))\n",
        "        print(\"Initial RMSE:\", rmse)\n",
        "\n",
        "\n",
        "        # SGD optimization\n",
        "        for epoch in range(self.n_epochs):\n",
        "            for ui in range(len(R.data)):\n",
        "                rui = R.data[ui]\n",
        "                u = R.row[ui]\n",
        "                i = R.col[ui]\n",
        "                if rui > 0:\n",
        "                    eui = rui - np.dot(P[u,:], Q[:,i])\n",
        "                    P[u,:] += gamma * 2 * (eui * Q[:,i] - lamda * P[u,:])\n",
        "                    Q[:,i] += gamma * 2 * (eui * P[u,:] - lamda * Q[:,i])\n",
        "            rmse = np.sqrt(self.error(R, P, Q, lamda) / len(R.data))\n",
        "            if rmse < 0.5:\n",
        "                break\n",
        "        print(\"Final RMSE:\", rmse)\n",
        "        return P, Q\n",
        "\n",
        "    def error(self, R, P, Q, lamda=0.02):\n",
        "        ratings = R.data\n",
        "        rows = R.row\n",
        "        cols = R.col\n",
        "        e = 0\n",
        "        for ui in range(len(ratings)):\n",
        "            rui = ratings[ui]\n",
        "            u = rows[ui]\n",
        "            i = cols[ui]\n",
        "            if rui > 0:\n",
        "                e += pow(rui - np.dot(P[u,:], Q[:,i]), 2) + lamda * (pow(np.linalg.norm(P[u,:]), 2) + pow(np.linalg.norm(Q[:,i]), 2))\n",
        "        return e\n",
        "\n"
      ],
      "metadata": {
        "id": "D9xAVcqyLqhe"
      },
      "execution_count": 51,
      "outputs": []
    },
    {
      "cell_type": "code",
      "source": [
        "# Collaborative Filtering\n",
        "def collaborative_filtering(ratings_pivot, K=3, gamma=0.0007, lamda=0.01):\n",
        "    R = coo_matrix(ratings_pivot.values)\n",
        "\n",
        "    print(\"Shape of coo_matrix:\", R.shape)\n",
        "\n",
        "\n",
        "    recommender = SGDRecommender()\n",
        "    P, Q = recommender.fit(R, K=K, gamma=gamma, lamda=lamda)\n",
        "    all_user_ratings = np.matmul(P, Q)\n",
        "    all_user_ratings_df = pd.DataFrame(np.round(all_user_ratings, 4), columns=ratings_pivot.columns, index=ratings_pivot.index)\n",
        "    return all_user_ratings_df"
      ],
      "metadata": {
        "id": "l9aDhu5pwPcW"
      },
      "execution_count": 52,
      "outputs": []
    },
    {
      "cell_type": "code",
      "source": [
        "# Recommendation for a specific user\n",
        "def recommend_for_user(user_id, all_user_ratings_df):\n",
        "\n",
        "    all_user_ratings_df_transposed = all_user_ratings_df.transpose()\n",
        "\n",
        "    user_ratings = all_user_ratings_df_transposed[user_id].sort_values(ascending=False)\n",
        "\n",
        "    recommendations = user_ratings\n",
        "\n",
        "    return recommendations"
      ],
      "metadata": {
        "id": "4J2OKXrzwSJ1"
      },
      "execution_count": 53,
      "outputs": []
    },
    {
      "cell_type": "code",
      "source": [
        "def filter_rated_recommendations(recommendations, user_id, ratings_pivot):\n",
        "    user_ratings = ratings_pivot.loc[user_id]\n",
        "    rated_products = user_ratings[user_ratings > 0].index\n",
        "    filtered_recommendations = recommendations[~recommendations.index.isin(rated_products)].head(10)\n",
        "    return filtered_recommendations\n"
      ],
      "metadata": {
        "id": "aeGBVqJ1hc_o"
      },
      "execution_count": 54,
      "outputs": []
    },
    {
      "cell_type": "code",
      "source": [
        "# File paths\n",
        "file_paths = [r\"softwareMerged.csv\"]\n",
        "\n",
        "# Read data\n",
        "data_frames = read_data(file_paths)"
      ],
      "metadata": {
        "id": "WoycxwrAwhx-"
      },
      "execution_count": 55,
      "outputs": []
    },
    {
      "cell_type": "code",
      "source": [
        "# Collaborative Filtering\n",
        "ratings = data_frames[0].sample(30000)  # Using Usersrating\n",
        "ratings_pivot = ratings.pivot(index='User_ID', columns='Product_ID', values='Rating').fillna(0)\n",
        "print(calculate_sparsity(ratings_pivot))\n",
        "all_user_ratings_df = collaborative_filtering(ratings_pivot)\n"
      ],
      "metadata": {
        "id": "HaGYRHv6wh7W",
        "colab": {
          "base_uri": "https://localhost:8080/"
        },
        "outputId": "7151b553-8805-45bf-d4bd-2e72a1c97449"
      },
      "execution_count": 56,
      "outputs": [
        {
          "output_type": "stream",
          "name": "stdout",
          "text": [
            "0.9998463426020534\n",
            "Shape of coo_matrix: (29377, 6646)\n",
            "Initial RMSE: 3.2914211204743093\n",
            "Final RMSE: 2.660580298536864\n"
          ]
        }
      ]
    },
    {
      "cell_type": "markdown",
      "source": [
        "# New Section"
      ],
      "metadata": {
        "id": "uOlA-qnDgIhp"
      }
    },
    {
      "cell_type": "code",
      "execution_count": 57,
      "metadata": {
        "id": "N0ixifSkLRvI",
        "colab": {
          "base_uri": "https://localhost:8080/"
        },
        "outputId": "22f9d233-7d52-4f09-8106-4a74f8f2f19c"
      },
      "outputs": [
        {
          "output_type": "stream",
          "name": "stdout",
          "text": [
            "Top 10 Recommendations for User A1ZYRECKENDIP8 : Product_ID\n",
            "B00UB76290    4.4995\n",
            "B00H9A60O4    4.4286\n",
            "B00EZPXYP4    4.1255\n",
            "B01637RFR4    4.1193\n",
            "B00CTTEKJW    4.0184\n",
            "B01617VQJ4    3.7694\n",
            "B00EZQYC8G    3.7672\n",
            "B00NG7JVSQ    3.6713\n",
            "B01617VPUY    3.6371\n",
            "B015724OVG    3.5355\n",
            "Name: A1ZYRECKENDIP8, dtype: float64\n"
          ]
        }
      ],
      "source": [
        "#recommend to a user\n",
        "user_id = ratings.iloc[random.randint(1,100), ratings.columns.get_loc('User_ID')]\n",
        "\n",
        "# Assuming user_ratings is a DataFrame containing all user ratings\n",
        "recommendations = recommend_for_user(user_id, all_user_ratings_df)\n",
        "\n",
        "top_ten_recommendations = filter_rated_recommendations(recommendations, user_id, ratings_pivot)\n",
        "\n",
        "print(\"Top 10 Recommendations for User\", user_id, \":\", top_ten_recommendations)\n"
      ]
    }
  ]
}