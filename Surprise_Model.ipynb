{
  "nbformat": 4,
  "nbformat_minor": 0,
  "metadata": {
    "colab": {
      "provenance": []
    },
    "kernelspec": {
      "name": "python3",
      "display_name": "Python 3"
    },
    "language_info": {
      "name": "python"
    }
  },
  "cells": [
    {
      "cell_type": "markdown",
      "source": [
        "# Surprise models  "
      ],
      "metadata": {
        "id": "cbNHUQNZ_dW3"
      }
    },
    {
      "cell_type": "code",
      "source": [
        "import pandas as pd\n",
        "import numpy as np\n",
        "import warnings\n",
        "import os\n",
        "import importlib\n",
        "warnings.filterwarnings('ignore')\n"
      ],
      "metadata": {
        "id": "PPPyGFNL-nH6"
      },
      "execution_count": 35,
      "outputs": []
    },
    {
      "cell_type": "code",
      "execution_count": 36,
      "metadata": {
        "id": "qMk7mbHU5MSE"
      },
      "outputs": [],
      "source": [
        "from google.colab import files\n",
        "from google.colab import drive"
      ]
    },
    {
      "cell_type": "code",
      "source": [
        "# Mount Google Drive\n",
        "drive.mount('/content/drive')\n",
        "file_path= \"/content/drive/MyDrive/prepro19.csv\"\n",
        "df=pd.read_csv(file_path)"
      ],
      "metadata": {
        "colab": {
          "base_uri": "https://localhost:8080/"
        },
        "id": "I-1ozdJGmT22",
        "outputId": "5d36bfda-afdd-4495-e659-aea0e0863e8c"
      },
      "execution_count": 38,
      "outputs": [
        {
          "output_type": "stream",
          "name": "stdout",
          "text": [
            "Drive already mounted at /content/drive; to attempt to forcibly remount, call drive.mount(\"/content/drive\", force_remount=True).\n"
          ]
        }
      ]
    },
    {
      "cell_type": "code",
      "source": [
        "df.head(5)"
      ],
      "metadata": {
        "colab": {
          "base_uri": "https://localhost:8080/",
          "height": 327
        },
        "id": "DFlqrItFmkTV",
        "outputId": "c9e10127-e274-4536-fe03-74cd15999c61"
      },
      "execution_count": 39,
      "outputs": [
        {
          "output_type": "execute_result",
          "data": {
            "text/plain": [
              "   Unnamed: 0                                       Product_name  Product_ID  \\\n",
              "0           0  HOLT PHYSICS LESSON PRESENTATION CD-ROM QUICK ...  0030672120   \n",
              "1           1  Sing, Watch, &amp; Learn Spanish (DVD + Guide)...  0071480935   \n",
              "2           2  Sing, Watch, &amp; Learn Spanish (DVD + Guide)...  0071480935   \n",
              "3           3  Sing, Watch, &amp; Learn Spanish (DVD + Guide)...  0071480935   \n",
              "4           4  Sing, Watch, &amp; Learn Spanish (DVD + Guide)...  0071480935   \n",
              "\n",
              "                                       Product_image   Price         User_ID  \\\n",
              "0  https://www.gmt-sales.com/wp-content/uploads/2...  3565.0  A15YSF93XJUR94   \n",
              "1  https://images-na.ssl-images-amazon.com/images...  3565.0  A2E7H1GZ49KT15   \n",
              "2  https://images-na.ssl-images-amazon.com/images...  3565.0  A1OP7G76WA8IJ0   \n",
              "3  https://images-na.ssl-images-amazon.com/images...  3565.0  A2AGDDGAV7XEHF   \n",
              "4  https://images-na.ssl-images-amazon.com/images...  3565.0   AXRKS89VZWW4G   \n",
              "\n",
              "   Rating                                Product_description  \n",
              "0     4.0                    no description for this product  \n",
              "1     3.0  Latin rhythms that will get your kids singing ...  \n",
              "2     5.0  Latin rhythms that will get your kids singing ...  \n",
              "3     5.0  Latin rhythms that will get your kids singing ...  \n",
              "4     5.0  Latin rhythms that will get your kids singing ...  "
            ],
            "text/html": [
              "\n",
              "  <div id=\"df-9c2ba0a7-b6c6-4d30-bb3a-784d828392c9\" class=\"colab-df-container\">\n",
              "    <div>\n",
              "<style scoped>\n",
              "    .dataframe tbody tr th:only-of-type {\n",
              "        vertical-align: middle;\n",
              "    }\n",
              "\n",
              "    .dataframe tbody tr th {\n",
              "        vertical-align: top;\n",
              "    }\n",
              "\n",
              "    .dataframe thead th {\n",
              "        text-align: right;\n",
              "    }\n",
              "</style>\n",
              "<table border=\"1\" class=\"dataframe\">\n",
              "  <thead>\n",
              "    <tr style=\"text-align: right;\">\n",
              "      <th></th>\n",
              "      <th>Unnamed: 0</th>\n",
              "      <th>Product_name</th>\n",
              "      <th>Product_ID</th>\n",
              "      <th>Product_image</th>\n",
              "      <th>Price</th>\n",
              "      <th>User_ID</th>\n",
              "      <th>Rating</th>\n",
              "      <th>Product_description</th>\n",
              "    </tr>\n",
              "  </thead>\n",
              "  <tbody>\n",
              "    <tr>\n",
              "      <th>0</th>\n",
              "      <td>0</td>\n",
              "      <td>HOLT PHYSICS LESSON PRESENTATION CD-ROM QUICK ...</td>\n",
              "      <td>0030672120</td>\n",
              "      <td>https://www.gmt-sales.com/wp-content/uploads/2...</td>\n",
              "      <td>3565.0</td>\n",
              "      <td>A15YSF93XJUR94</td>\n",
              "      <td>4.0</td>\n",
              "      <td>no description for this product</td>\n",
              "    </tr>\n",
              "    <tr>\n",
              "      <th>1</th>\n",
              "      <td>1</td>\n",
              "      <td>Sing, Watch, &amp;amp; Learn Spanish (DVD + Guide)...</td>\n",
              "      <td>0071480935</td>\n",
              "      <td>https://images-na.ssl-images-amazon.com/images...</td>\n",
              "      <td>3565.0</td>\n",
              "      <td>A2E7H1GZ49KT15</td>\n",
              "      <td>3.0</td>\n",
              "      <td>Latin rhythms that will get your kids singing ...</td>\n",
              "    </tr>\n",
              "    <tr>\n",
              "      <th>2</th>\n",
              "      <td>2</td>\n",
              "      <td>Sing, Watch, &amp;amp; Learn Spanish (DVD + Guide)...</td>\n",
              "      <td>0071480935</td>\n",
              "      <td>https://images-na.ssl-images-amazon.com/images...</td>\n",
              "      <td>3565.0</td>\n",
              "      <td>A1OP7G76WA8IJ0</td>\n",
              "      <td>5.0</td>\n",
              "      <td>Latin rhythms that will get your kids singing ...</td>\n",
              "    </tr>\n",
              "    <tr>\n",
              "      <th>3</th>\n",
              "      <td>3</td>\n",
              "      <td>Sing, Watch, &amp;amp; Learn Spanish (DVD + Guide)...</td>\n",
              "      <td>0071480935</td>\n",
              "      <td>https://images-na.ssl-images-amazon.com/images...</td>\n",
              "      <td>3565.0</td>\n",
              "      <td>A2AGDDGAV7XEHF</td>\n",
              "      <td>5.0</td>\n",
              "      <td>Latin rhythms that will get your kids singing ...</td>\n",
              "    </tr>\n",
              "    <tr>\n",
              "      <th>4</th>\n",
              "      <td>4</td>\n",
              "      <td>Sing, Watch, &amp;amp; Learn Spanish (DVD + Guide)...</td>\n",
              "      <td>0071480935</td>\n",
              "      <td>https://images-na.ssl-images-amazon.com/images...</td>\n",
              "      <td>3565.0</td>\n",
              "      <td>AXRKS89VZWW4G</td>\n",
              "      <td>5.0</td>\n",
              "      <td>Latin rhythms that will get your kids singing ...</td>\n",
              "    </tr>\n",
              "  </tbody>\n",
              "</table>\n",
              "</div>\n",
              "    <div class=\"colab-df-buttons\">\n",
              "\n",
              "  <div class=\"colab-df-container\">\n",
              "    <button class=\"colab-df-convert\" onclick=\"convertToInteractive('df-9c2ba0a7-b6c6-4d30-bb3a-784d828392c9')\"\n",
              "            title=\"Convert this dataframe to an interactive table.\"\n",
              "            style=\"display:none;\">\n",
              "\n",
              "  <svg xmlns=\"http://www.w3.org/2000/svg\" height=\"24px\" viewBox=\"0 -960 960 960\">\n",
              "    <path d=\"M120-120v-720h720v720H120Zm60-500h600v-160H180v160Zm220 220h160v-160H400v160Zm0 220h160v-160H400v160ZM180-400h160v-160H180v160Zm440 0h160v-160H620v160ZM180-180h160v-160H180v160Zm440 0h160v-160H620v160Z\"/>\n",
              "  </svg>\n",
              "    </button>\n",
              "\n",
              "  <style>\n",
              "    .colab-df-container {\n",
              "      display:flex;\n",
              "      gap: 12px;\n",
              "    }\n",
              "\n",
              "    .colab-df-convert {\n",
              "      background-color: #E8F0FE;\n",
              "      border: none;\n",
              "      border-radius: 50%;\n",
              "      cursor: pointer;\n",
              "      display: none;\n",
              "      fill: #1967D2;\n",
              "      height: 32px;\n",
              "      padding: 0 0 0 0;\n",
              "      width: 32px;\n",
              "    }\n",
              "\n",
              "    .colab-df-convert:hover {\n",
              "      background-color: #E2EBFA;\n",
              "      box-shadow: 0px 1px 2px rgba(60, 64, 67, 0.3), 0px 1px 3px 1px rgba(60, 64, 67, 0.15);\n",
              "      fill: #174EA6;\n",
              "    }\n",
              "\n",
              "    .colab-df-buttons div {\n",
              "      margin-bottom: 4px;\n",
              "    }\n",
              "\n",
              "    [theme=dark] .colab-df-convert {\n",
              "      background-color: #3B4455;\n",
              "      fill: #D2E3FC;\n",
              "    }\n",
              "\n",
              "    [theme=dark] .colab-df-convert:hover {\n",
              "      background-color: #434B5C;\n",
              "      box-shadow: 0px 1px 3px 1px rgba(0, 0, 0, 0.15);\n",
              "      filter: drop-shadow(0px 1px 2px rgba(0, 0, 0, 0.3));\n",
              "      fill: #FFFFFF;\n",
              "    }\n",
              "  </style>\n",
              "\n",
              "    <script>\n",
              "      const buttonEl =\n",
              "        document.querySelector('#df-9c2ba0a7-b6c6-4d30-bb3a-784d828392c9 button.colab-df-convert');\n",
              "      buttonEl.style.display =\n",
              "        google.colab.kernel.accessAllowed ? 'block' : 'none';\n",
              "\n",
              "      async function convertToInteractive(key) {\n",
              "        const element = document.querySelector('#df-9c2ba0a7-b6c6-4d30-bb3a-784d828392c9');\n",
              "        const dataTable =\n",
              "          await google.colab.kernel.invokeFunction('convertToInteractive',\n",
              "                                                    [key], {});\n",
              "        if (!dataTable) return;\n",
              "\n",
              "        const docLinkHtml = 'Like what you see? Visit the ' +\n",
              "          '<a target=\"_blank\" href=https://colab.research.google.com/notebooks/data_table.ipynb>data table notebook</a>'\n",
              "          + ' to learn more about interactive tables.';\n",
              "        element.innerHTML = '';\n",
              "        dataTable['output_type'] = 'display_data';\n",
              "        await google.colab.output.renderOutput(dataTable, element);\n",
              "        const docLink = document.createElement('div');\n",
              "        docLink.innerHTML = docLinkHtml;\n",
              "        element.appendChild(docLink);\n",
              "      }\n",
              "    </script>\n",
              "  </div>\n",
              "\n",
              "\n",
              "<div id=\"df-91c505d3-be44-4b07-ab47-a7e79aaeb08d\">\n",
              "  <button class=\"colab-df-quickchart\" onclick=\"quickchart('df-91c505d3-be44-4b07-ab47-a7e79aaeb08d')\"\n",
              "            title=\"Suggest charts\"\n",
              "            style=\"display:none;\">\n",
              "\n",
              "<svg xmlns=\"http://www.w3.org/2000/svg\" height=\"24px\"viewBox=\"0 0 24 24\"\n",
              "     width=\"24px\">\n",
              "    <g>\n",
              "        <path d=\"M19 3H5c-1.1 0-2 .9-2 2v14c0 1.1.9 2 2 2h14c1.1 0 2-.9 2-2V5c0-1.1-.9-2-2-2zM9 17H7v-7h2v7zm4 0h-2V7h2v10zm4 0h-2v-4h2v4z\"/>\n",
              "    </g>\n",
              "</svg>\n",
              "  </button>\n",
              "\n",
              "<style>\n",
              "  .colab-df-quickchart {\n",
              "      --bg-color: #E8F0FE;\n",
              "      --fill-color: #1967D2;\n",
              "      --hover-bg-color: #E2EBFA;\n",
              "      --hover-fill-color: #174EA6;\n",
              "      --disabled-fill-color: #AAA;\n",
              "      --disabled-bg-color: #DDD;\n",
              "  }\n",
              "\n",
              "  [theme=dark] .colab-df-quickchart {\n",
              "      --bg-color: #3B4455;\n",
              "      --fill-color: #D2E3FC;\n",
              "      --hover-bg-color: #434B5C;\n",
              "      --hover-fill-color: #FFFFFF;\n",
              "      --disabled-bg-color: #3B4455;\n",
              "      --disabled-fill-color: #666;\n",
              "  }\n",
              "\n",
              "  .colab-df-quickchart {\n",
              "    background-color: var(--bg-color);\n",
              "    border: none;\n",
              "    border-radius: 50%;\n",
              "    cursor: pointer;\n",
              "    display: none;\n",
              "    fill: var(--fill-color);\n",
              "    height: 32px;\n",
              "    padding: 0;\n",
              "    width: 32px;\n",
              "  }\n",
              "\n",
              "  .colab-df-quickchart:hover {\n",
              "    background-color: var(--hover-bg-color);\n",
              "    box-shadow: 0 1px 2px rgba(60, 64, 67, 0.3), 0 1px 3px 1px rgba(60, 64, 67, 0.15);\n",
              "    fill: var(--button-hover-fill-color);\n",
              "  }\n",
              "\n",
              "  .colab-df-quickchart-complete:disabled,\n",
              "  .colab-df-quickchart-complete:disabled:hover {\n",
              "    background-color: var(--disabled-bg-color);\n",
              "    fill: var(--disabled-fill-color);\n",
              "    box-shadow: none;\n",
              "  }\n",
              "\n",
              "  .colab-df-spinner {\n",
              "    border: 2px solid var(--fill-color);\n",
              "    border-color: transparent;\n",
              "    border-bottom-color: var(--fill-color);\n",
              "    animation:\n",
              "      spin 1s steps(1) infinite;\n",
              "  }\n",
              "\n",
              "  @keyframes spin {\n",
              "    0% {\n",
              "      border-color: transparent;\n",
              "      border-bottom-color: var(--fill-color);\n",
              "      border-left-color: var(--fill-color);\n",
              "    }\n",
              "    20% {\n",
              "      border-color: transparent;\n",
              "      border-left-color: var(--fill-color);\n",
              "      border-top-color: var(--fill-color);\n",
              "    }\n",
              "    30% {\n",
              "      border-color: transparent;\n",
              "      border-left-color: var(--fill-color);\n",
              "      border-top-color: var(--fill-color);\n",
              "      border-right-color: var(--fill-color);\n",
              "    }\n",
              "    40% {\n",
              "      border-color: transparent;\n",
              "      border-right-color: var(--fill-color);\n",
              "      border-top-color: var(--fill-color);\n",
              "    }\n",
              "    60% {\n",
              "      border-color: transparent;\n",
              "      border-right-color: var(--fill-color);\n",
              "    }\n",
              "    80% {\n",
              "      border-color: transparent;\n",
              "      border-right-color: var(--fill-color);\n",
              "      border-bottom-color: var(--fill-color);\n",
              "    }\n",
              "    90% {\n",
              "      border-color: transparent;\n",
              "      border-bottom-color: var(--fill-color);\n",
              "    }\n",
              "  }\n",
              "</style>\n",
              "\n",
              "  <script>\n",
              "    async function quickchart(key) {\n",
              "      const quickchartButtonEl =\n",
              "        document.querySelector('#' + key + ' button');\n",
              "      quickchartButtonEl.disabled = true;  // To prevent multiple clicks.\n",
              "      quickchartButtonEl.classList.add('colab-df-spinner');\n",
              "      try {\n",
              "        const charts = await google.colab.kernel.invokeFunction(\n",
              "            'suggestCharts', [key], {});\n",
              "      } catch (error) {\n",
              "        console.error('Error during call to suggestCharts:', error);\n",
              "      }\n",
              "      quickchartButtonEl.classList.remove('colab-df-spinner');\n",
              "      quickchartButtonEl.classList.add('colab-df-quickchart-complete');\n",
              "    }\n",
              "    (() => {\n",
              "      let quickchartButtonEl =\n",
              "        document.querySelector('#df-91c505d3-be44-4b07-ab47-a7e79aaeb08d button');\n",
              "      quickchartButtonEl.style.display =\n",
              "        google.colab.kernel.accessAllowed ? 'block' : 'none';\n",
              "    })();\n",
              "  </script>\n",
              "</div>\n",
              "\n",
              "    </div>\n",
              "  </div>\n"
            ],
            "application/vnd.google.colaboratory.intrinsic+json": {
              "type": "dataframe",
              "variable_name": "df"
            }
          },
          "metadata": {},
          "execution_count": 39
        }
      ]
    },
    {
      "cell_type": "code",
      "source": [
        "#checking the null values in each column\n",
        "df.isnull().sum()"
      ],
      "metadata": {
        "colab": {
          "base_uri": "https://localhost:8080/"
        },
        "id": "6RIV9q5rUpDv",
        "outputId": "742bad40-d0aa-4b70-c96c-d00f6bfd29a6"
      },
      "execution_count": 40,
      "outputs": [
        {
          "output_type": "execute_result",
          "data": {
            "text/plain": [
              "Unnamed: 0             0\n",
              "Product_name           0\n",
              "Product_ID             0\n",
              "Product_image          0\n",
              "Price                  0\n",
              "User_ID                0\n",
              "Rating                 0\n",
              "Product_description    0\n",
              "dtype: int64"
            ]
          },
          "metadata": {},
          "execution_count": 40
        }
      ]
    },
    {
      "cell_type": "code",
      "source": [
        "!pip install surprise"
      ],
      "metadata": {
        "colab": {
          "base_uri": "https://localhost:8080/"
        },
        "id": "YGvFBzv2j4OX",
        "outputId": "11934021-2006-4112-9beb-3b6484ba995f"
      },
      "execution_count": 41,
      "outputs": [
        {
          "output_type": "stream",
          "name": "stdout",
          "text": [
            "Requirement already satisfied: surprise in /usr/local/lib/python3.10/dist-packages (0.1)\n",
            "Requirement already satisfied: scikit-surprise in /usr/local/lib/python3.10/dist-packages (from surprise) (1.1.3)\n",
            "Requirement already satisfied: joblib>=1.0.0 in /usr/local/lib/python3.10/dist-packages (from scikit-surprise->surprise) (1.4.0)\n",
            "Requirement already satisfied: numpy>=1.17.3 in /usr/local/lib/python3.10/dist-packages (from scikit-surprise->surprise) (1.25.2)\n",
            "Requirement already satisfied: scipy>=1.3.2 in /usr/local/lib/python3.10/dist-packages (from scikit-surprise->surprise) (1.11.4)\n"
          ]
        }
      ]
    },
    {
      "cell_type": "code",
      "source": [
        "#import surprise library for collebrative filtering\n",
        "from surprise import Dataset\n",
        "from surprise import accuracy\n",
        "from surprise import Reader\n",
        "from surprise.model_selection import train_test_split"
      ],
      "metadata": {
        "id": "JXkInTKa5NQ2"
      },
      "execution_count": 42,
      "outputs": []
    },
    {
      "cell_type": "code",
      "source": [
        "df.shape"
      ],
      "metadata": {
        "colab": {
          "base_uri": "https://localhost:8080/"
        },
        "id": "qMGTX3PxxlnO",
        "outputId": "84955f89-46c9-4b57-a21c-1a44cdf9a0b0"
      },
      "execution_count": 43,
      "outputs": [
        {
          "output_type": "execute_result",
          "data": {
            "text/plain": [
              "(450232, 8)"
            ]
          },
          "metadata": {},
          "execution_count": 43
        }
      ]
    },
    {
      "cell_type": "code",
      "source": [
        "#group by the product id that have more than 50 ratings\n",
        "df_grouped=df.groupby('Product_ID').filter(lambda x:x['Rating'].count()>=50)\n"
      ],
      "metadata": {
        "id": "FTGj5EuEqK--"
      },
      "execution_count": 44,
      "outputs": []
    },
    {
      "cell_type": "code",
      "source": [
        "df_grouped.shape"
      ],
      "metadata": {
        "colab": {
          "base_uri": "https://localhost:8080/"
        },
        "id": "-AaZeMKYq-EP",
        "outputId": "1a3873bb-442d-4463-fd78-b998e09beb62"
      },
      "execution_count": 45,
      "outputs": [
        {
          "output_type": "execute_result",
          "data": {
            "text/plain": [
              "(331521, 8)"
            ]
          },
          "metadata": {},
          "execution_count": 45
        }
      ]
    },
    {
      "cell_type": "code",
      "source": [
        "#sampling the data and taking only 20k rows\n",
        "electronics_data=df_grouped.sample(n=20000,ignore_index=True)"
      ],
      "metadata": {
        "id": "DO5zCZirA-nP"
      },
      "execution_count": 46,
      "outputs": []
    },
    {
      "cell_type": "code",
      "source": [
        "#drop Unnamed :0 column\n",
        "electronics_data.drop('Unnamed: 0',axis=1,inplace=True)"
      ],
      "metadata": {
        "id": "DQms328xBY_k"
      },
      "execution_count": 47,
      "outputs": []
    },
    {
      "cell_type": "code",
      "source": [
        "electronics_data.shape"
      ],
      "metadata": {
        "colab": {
          "base_uri": "https://localhost:8080/"
        },
        "id": "AVvQW7IUxmg8",
        "outputId": "6ddd5728-b76e-4a27-d6c1-0361158bdf33"
      },
      "execution_count": 48,
      "outputs": [
        {
          "output_type": "execute_result",
          "data": {
            "text/plain": [
              "(20000, 7)"
            ]
          },
          "metadata": {},
          "execution_count": 48
        }
      ]
    },
    {
      "cell_type": "code",
      "source": [
        "electronics_data.head(5)"
      ],
      "metadata": {
        "colab": {
          "base_uri": "https://localhost:8080/",
          "height": 293
        },
        "id": "eYVslXqmrGDh",
        "outputId": "e797b007-518e-42fc-a192-19b2f78bcb72"
      },
      "execution_count": 49,
      "outputs": [
        {
          "output_type": "execute_result",
          "data": {
            "text/plain": [
              "                                        Product_name  Product_ID  \\\n",
              "0       Quicken Starter Edition 2011 - [Old Version]  B003YJ5DSS   \n",
              "1  Mac OS X version 10.6.3 Snow Leopard (Mac comp...  B001AMHWP8   \n",
              "2  Microsoft Office 365 Personal | 1-year subscri...  B00IT6WQDQ   \n",
              "3                                  Pure 3.0 - 3 User  B00BKWXNDI   \n",
              "4  TurboTax Deluxe 2015 Federal + State Taxes - T...  B01637RFR4   \n",
              "\n",
              "                                       Product_image   Price         User_ID  \\\n",
              "0  https://www.gmt-sales.com/wp-content/uploads/2...  3565.0  A10W02UXELJ05N   \n",
              "1  https://images-na.ssl-images-amazon.com/images...  3699.0   AQZH7YTWQPOBE   \n",
              "2  https://images-na.ssl-images-amazon.com/images...  6999.0  A3UO13JYVKDFIN   \n",
              "3  https://images-na.ssl-images-amazon.com/images...  5988.0  A1DECEN4B3U34K   \n",
              "4  https://www.gmt-sales.com/wp-content/uploads/2...  3565.0  A3EPJP49I4T0Q4   \n",
              "\n",
              "   Rating                                Product_description  \n",
              "0     1.0  Simple Money Management. Organizes your bank a...  \n",
              "1     4.0  Mac OS X 10.6.3 Snow Leopard, a simpler, more ...  \n",
              "2     3.0  Office 365 comes fully loaded with the latest ...  \n",
              "3     5.0  Product Description Pure 1303121 . Ultimate PC...  \n",
              "4     5.0      Get your taxes done right with TurboTax 2015.  "
            ],
            "text/html": [
              "\n",
              "  <div id=\"df-cd5b60d6-6c63-45fa-983b-6a1a5353f883\" class=\"colab-df-container\">\n",
              "    <div>\n",
              "<style scoped>\n",
              "    .dataframe tbody tr th:only-of-type {\n",
              "        vertical-align: middle;\n",
              "    }\n",
              "\n",
              "    .dataframe tbody tr th {\n",
              "        vertical-align: top;\n",
              "    }\n",
              "\n",
              "    .dataframe thead th {\n",
              "        text-align: right;\n",
              "    }\n",
              "</style>\n",
              "<table border=\"1\" class=\"dataframe\">\n",
              "  <thead>\n",
              "    <tr style=\"text-align: right;\">\n",
              "      <th></th>\n",
              "      <th>Product_name</th>\n",
              "      <th>Product_ID</th>\n",
              "      <th>Product_image</th>\n",
              "      <th>Price</th>\n",
              "      <th>User_ID</th>\n",
              "      <th>Rating</th>\n",
              "      <th>Product_description</th>\n",
              "    </tr>\n",
              "  </thead>\n",
              "  <tbody>\n",
              "    <tr>\n",
              "      <th>0</th>\n",
              "      <td>Quicken Starter Edition 2011 - [Old Version]</td>\n",
              "      <td>B003YJ5DSS</td>\n",
              "      <td>https://www.gmt-sales.com/wp-content/uploads/2...</td>\n",
              "      <td>3565.0</td>\n",
              "      <td>A10W02UXELJ05N</td>\n",
              "      <td>1.0</td>\n",
              "      <td>Simple Money Management. Organizes your bank a...</td>\n",
              "    </tr>\n",
              "    <tr>\n",
              "      <th>1</th>\n",
              "      <td>Mac OS X version 10.6.3 Snow Leopard (Mac comp...</td>\n",
              "      <td>B001AMHWP8</td>\n",
              "      <td>https://images-na.ssl-images-amazon.com/images...</td>\n",
              "      <td>3699.0</td>\n",
              "      <td>AQZH7YTWQPOBE</td>\n",
              "      <td>4.0</td>\n",
              "      <td>Mac OS X 10.6.3 Snow Leopard, a simpler, more ...</td>\n",
              "    </tr>\n",
              "    <tr>\n",
              "      <th>2</th>\n",
              "      <td>Microsoft Office 365 Personal | 1-year subscri...</td>\n",
              "      <td>B00IT6WQDQ</td>\n",
              "      <td>https://images-na.ssl-images-amazon.com/images...</td>\n",
              "      <td>6999.0</td>\n",
              "      <td>A3UO13JYVKDFIN</td>\n",
              "      <td>3.0</td>\n",
              "      <td>Office 365 comes fully loaded with the latest ...</td>\n",
              "    </tr>\n",
              "    <tr>\n",
              "      <th>3</th>\n",
              "      <td>Pure 3.0 - 3 User</td>\n",
              "      <td>B00BKWXNDI</td>\n",
              "      <td>https://images-na.ssl-images-amazon.com/images...</td>\n",
              "      <td>5988.0</td>\n",
              "      <td>A1DECEN4B3U34K</td>\n",
              "      <td>5.0</td>\n",
              "      <td>Product Description Pure 1303121 . Ultimate PC...</td>\n",
              "    </tr>\n",
              "    <tr>\n",
              "      <th>4</th>\n",
              "      <td>TurboTax Deluxe 2015 Federal + State Taxes - T...</td>\n",
              "      <td>B01637RFR4</td>\n",
              "      <td>https://www.gmt-sales.com/wp-content/uploads/2...</td>\n",
              "      <td>3565.0</td>\n",
              "      <td>A3EPJP49I4T0Q4</td>\n",
              "      <td>5.0</td>\n",
              "      <td>Get your taxes done right with TurboTax 2015.</td>\n",
              "    </tr>\n",
              "  </tbody>\n",
              "</table>\n",
              "</div>\n",
              "    <div class=\"colab-df-buttons\">\n",
              "\n",
              "  <div class=\"colab-df-container\">\n",
              "    <button class=\"colab-df-convert\" onclick=\"convertToInteractive('df-cd5b60d6-6c63-45fa-983b-6a1a5353f883')\"\n",
              "            title=\"Convert this dataframe to an interactive table.\"\n",
              "            style=\"display:none;\">\n",
              "\n",
              "  <svg xmlns=\"http://www.w3.org/2000/svg\" height=\"24px\" viewBox=\"0 -960 960 960\">\n",
              "    <path d=\"M120-120v-720h720v720H120Zm60-500h600v-160H180v160Zm220 220h160v-160H400v160Zm0 220h160v-160H400v160ZM180-400h160v-160H180v160Zm440 0h160v-160H620v160ZM180-180h160v-160H180v160Zm440 0h160v-160H620v160Z\"/>\n",
              "  </svg>\n",
              "    </button>\n",
              "\n",
              "  <style>\n",
              "    .colab-df-container {\n",
              "      display:flex;\n",
              "      gap: 12px;\n",
              "    }\n",
              "\n",
              "    .colab-df-convert {\n",
              "      background-color: #E8F0FE;\n",
              "      border: none;\n",
              "      border-radius: 50%;\n",
              "      cursor: pointer;\n",
              "      display: none;\n",
              "      fill: #1967D2;\n",
              "      height: 32px;\n",
              "      padding: 0 0 0 0;\n",
              "      width: 32px;\n",
              "    }\n",
              "\n",
              "    .colab-df-convert:hover {\n",
              "      background-color: #E2EBFA;\n",
              "      box-shadow: 0px 1px 2px rgba(60, 64, 67, 0.3), 0px 1px 3px 1px rgba(60, 64, 67, 0.15);\n",
              "      fill: #174EA6;\n",
              "    }\n",
              "\n",
              "    .colab-df-buttons div {\n",
              "      margin-bottom: 4px;\n",
              "    }\n",
              "\n",
              "    [theme=dark] .colab-df-convert {\n",
              "      background-color: #3B4455;\n",
              "      fill: #D2E3FC;\n",
              "    }\n",
              "\n",
              "    [theme=dark] .colab-df-convert:hover {\n",
              "      background-color: #434B5C;\n",
              "      box-shadow: 0px 1px 3px 1px rgba(0, 0, 0, 0.15);\n",
              "      filter: drop-shadow(0px 1px 2px rgba(0, 0, 0, 0.3));\n",
              "      fill: #FFFFFF;\n",
              "    }\n",
              "  </style>\n",
              "\n",
              "    <script>\n",
              "      const buttonEl =\n",
              "        document.querySelector('#df-cd5b60d6-6c63-45fa-983b-6a1a5353f883 button.colab-df-convert');\n",
              "      buttonEl.style.display =\n",
              "        google.colab.kernel.accessAllowed ? 'block' : 'none';\n",
              "\n",
              "      async function convertToInteractive(key) {\n",
              "        const element = document.querySelector('#df-cd5b60d6-6c63-45fa-983b-6a1a5353f883');\n",
              "        const dataTable =\n",
              "          await google.colab.kernel.invokeFunction('convertToInteractive',\n",
              "                                                    [key], {});\n",
              "        if (!dataTable) return;\n",
              "\n",
              "        const docLinkHtml = 'Like what you see? Visit the ' +\n",
              "          '<a target=\"_blank\" href=https://colab.research.google.com/notebooks/data_table.ipynb>data table notebook</a>'\n",
              "          + ' to learn more about interactive tables.';\n",
              "        element.innerHTML = '';\n",
              "        dataTable['output_type'] = 'display_data';\n",
              "        await google.colab.output.renderOutput(dataTable, element);\n",
              "        const docLink = document.createElement('div');\n",
              "        docLink.innerHTML = docLinkHtml;\n",
              "        element.appendChild(docLink);\n",
              "      }\n",
              "    </script>\n",
              "  </div>\n",
              "\n",
              "\n",
              "<div id=\"df-1d11e831-cbf4-44e1-b34d-27479516de22\">\n",
              "  <button class=\"colab-df-quickchart\" onclick=\"quickchart('df-1d11e831-cbf4-44e1-b34d-27479516de22')\"\n",
              "            title=\"Suggest charts\"\n",
              "            style=\"display:none;\">\n",
              "\n",
              "<svg xmlns=\"http://www.w3.org/2000/svg\" height=\"24px\"viewBox=\"0 0 24 24\"\n",
              "     width=\"24px\">\n",
              "    <g>\n",
              "        <path d=\"M19 3H5c-1.1 0-2 .9-2 2v14c0 1.1.9 2 2 2h14c1.1 0 2-.9 2-2V5c0-1.1-.9-2-2-2zM9 17H7v-7h2v7zm4 0h-2V7h2v10zm4 0h-2v-4h2v4z\"/>\n",
              "    </g>\n",
              "</svg>\n",
              "  </button>\n",
              "\n",
              "<style>\n",
              "  .colab-df-quickchart {\n",
              "      --bg-color: #E8F0FE;\n",
              "      --fill-color: #1967D2;\n",
              "      --hover-bg-color: #E2EBFA;\n",
              "      --hover-fill-color: #174EA6;\n",
              "      --disabled-fill-color: #AAA;\n",
              "      --disabled-bg-color: #DDD;\n",
              "  }\n",
              "\n",
              "  [theme=dark] .colab-df-quickchart {\n",
              "      --bg-color: #3B4455;\n",
              "      --fill-color: #D2E3FC;\n",
              "      --hover-bg-color: #434B5C;\n",
              "      --hover-fill-color: #FFFFFF;\n",
              "      --disabled-bg-color: #3B4455;\n",
              "      --disabled-fill-color: #666;\n",
              "  }\n",
              "\n",
              "  .colab-df-quickchart {\n",
              "    background-color: var(--bg-color);\n",
              "    border: none;\n",
              "    border-radius: 50%;\n",
              "    cursor: pointer;\n",
              "    display: none;\n",
              "    fill: var(--fill-color);\n",
              "    height: 32px;\n",
              "    padding: 0;\n",
              "    width: 32px;\n",
              "  }\n",
              "\n",
              "  .colab-df-quickchart:hover {\n",
              "    background-color: var(--hover-bg-color);\n",
              "    box-shadow: 0 1px 2px rgba(60, 64, 67, 0.3), 0 1px 3px 1px rgba(60, 64, 67, 0.15);\n",
              "    fill: var(--button-hover-fill-color);\n",
              "  }\n",
              "\n",
              "  .colab-df-quickchart-complete:disabled,\n",
              "  .colab-df-quickchart-complete:disabled:hover {\n",
              "    background-color: var(--disabled-bg-color);\n",
              "    fill: var(--disabled-fill-color);\n",
              "    box-shadow: none;\n",
              "  }\n",
              "\n",
              "  .colab-df-spinner {\n",
              "    border: 2px solid var(--fill-color);\n",
              "    border-color: transparent;\n",
              "    border-bottom-color: var(--fill-color);\n",
              "    animation:\n",
              "      spin 1s steps(1) infinite;\n",
              "  }\n",
              "\n",
              "  @keyframes spin {\n",
              "    0% {\n",
              "      border-color: transparent;\n",
              "      border-bottom-color: var(--fill-color);\n",
              "      border-left-color: var(--fill-color);\n",
              "    }\n",
              "    20% {\n",
              "      border-color: transparent;\n",
              "      border-left-color: var(--fill-color);\n",
              "      border-top-color: var(--fill-color);\n",
              "    }\n",
              "    30% {\n",
              "      border-color: transparent;\n",
              "      border-left-color: var(--fill-color);\n",
              "      border-top-color: var(--fill-color);\n",
              "      border-right-color: var(--fill-color);\n",
              "    }\n",
              "    40% {\n",
              "      border-color: transparent;\n",
              "      border-right-color: var(--fill-color);\n",
              "      border-top-color: var(--fill-color);\n",
              "    }\n",
              "    60% {\n",
              "      border-color: transparent;\n",
              "      border-right-color: var(--fill-color);\n",
              "    }\n",
              "    80% {\n",
              "      border-color: transparent;\n",
              "      border-right-color: var(--fill-color);\n",
              "      border-bottom-color: var(--fill-color);\n",
              "    }\n",
              "    90% {\n",
              "      border-color: transparent;\n",
              "      border-bottom-color: var(--fill-color);\n",
              "    }\n",
              "  }\n",
              "</style>\n",
              "\n",
              "  <script>\n",
              "    async function quickchart(key) {\n",
              "      const quickchartButtonEl =\n",
              "        document.querySelector('#' + key + ' button');\n",
              "      quickchartButtonEl.disabled = true;  // To prevent multiple clicks.\n",
              "      quickchartButtonEl.classList.add('colab-df-spinner');\n",
              "      try {\n",
              "        const charts = await google.colab.kernel.invokeFunction(\n",
              "            'suggestCharts', [key], {});\n",
              "      } catch (error) {\n",
              "        console.error('Error during call to suggestCharts:', error);\n",
              "      }\n",
              "      quickchartButtonEl.classList.remove('colab-df-spinner');\n",
              "      quickchartButtonEl.classList.add('colab-df-quickchart-complete');\n",
              "    }\n",
              "    (() => {\n",
              "      let quickchartButtonEl =\n",
              "        document.querySelector('#df-1d11e831-cbf4-44e1-b34d-27479516de22 button');\n",
              "      quickchartButtonEl.style.display =\n",
              "        google.colab.kernel.accessAllowed ? 'block' : 'none';\n",
              "    })();\n",
              "  </script>\n",
              "</div>\n",
              "\n",
              "    </div>\n",
              "  </div>\n"
            ],
            "application/vnd.google.colaboratory.intrinsic+json": {
              "type": "dataframe",
              "variable_name": "electronics_data",
              "summary": "{\n  \"name\": \"electronics_data\",\n  \"rows\": 20000,\n  \"fields\": [\n    {\n      \"column\": \"Product_name\",\n      \"properties\": {\n        \"dtype\": \"category\",\n        \"num_unique_values\": 1359,\n        \"samples\": [\n          \"LeapFrog SpongeBob SquarePants: The Clam Prix Learning Game (works with LeapPad Tablets, Leapster GS, and Leapster Explorer)\",\n          \" Kid Pix Deluxe 4 Home Edition\\\" />\",\n          \"Zonealarm Internet Security Suite 2007 [OLD VERSION]\"\n        ],\n        \"semantic_type\": \"\",\n        \"description\": \"\"\n      }\n    },\n    {\n      \"column\": \"Product_ID\",\n      \"properties\": {\n        \"dtype\": \"category\",\n        \"num_unique_values\": 1387,\n        \"samples\": [\n          \"B00P6U8B96\",\n          \"B00OZ1XKJS\",\n          \"B00282UXC8\"\n        ],\n        \"semantic_type\": \"\",\n        \"description\": \"\"\n      }\n    },\n    {\n      \"column\": \"Product_image\",\n      \"properties\": {\n        \"dtype\": \"category\",\n        \"num_unique_values\": 528,\n        \"samples\": [\n          \"https://images-na.ssl-images-amazon.com/images/I/61ZFfTC97yL.jpg\",\n          \"https://images-na.ssl-images-amazon.com/images/I/51m9eNgWXEL.jpg\",\n          \"https://images-na.ssl-images-amazon.com/images/I/51-BHgtcJbL.jpg\"\n        ],\n        \"semantic_type\": \"\",\n        \"description\": \"\"\n      }\n    },\n    {\n      \"column\": \"Price\",\n      \"properties\": {\n        \"dtype\": \"number\",\n        \"std\": 4297.204631449756,\n        \"min\": 0.0,\n        \"max\": 39000.0,\n        \"num_unique_values\": 266,\n        \"samples\": [\n          2426.0,\n          1299.0,\n          679.0\n        ],\n        \"semantic_type\": \"\",\n        \"description\": \"\"\n      }\n    },\n    {\n      \"column\": \"User_ID\",\n      \"properties\": {\n        \"dtype\": \"string\",\n        \"num_unique_values\": 19704,\n        \"samples\": [\n          \"AN0N05A9LIJEQ\",\n          \"A2FB2XNFPVMWY4\",\n          \"A3KIHLBDK90IJB\"\n        ],\n        \"semantic_type\": \"\",\n        \"description\": \"\"\n      }\n    },\n    {\n      \"column\": \"Rating\",\n      \"properties\": {\n        \"dtype\": \"number\",\n        \"std\": 1.595276791939927,\n        \"min\": 1.0,\n        \"max\": 5.0,\n        \"num_unique_values\": 5,\n        \"samples\": [\n          4.0,\n          2.0,\n          3.0\n        ],\n        \"semantic_type\": \"\",\n        \"description\": \"\"\n      }\n    },\n    {\n      \"column\": \"Product_description\",\n      \"properties\": {\n        \"dtype\": \"category\",\n        \"num_unique_values\": 1234,\n        \"samples\": [\n          \"Automatic updates of your software\\r\\rMost virus and malware threats exploit security holes in outdated versions of popular software like browsers, email clients, etc. As it&#x2019;s bothersome but vital to update all those programs manually, Premier does it for you. \\r\\rAccess your computer over the Internet\\r\\rYou can connect to your Premier-equipped computer even when you&#x2019;re on the other side of the globe. The AccessAnywhere feature allows you to view your desktop and access your files from any computer in the world that has any version of avast! installed. \\r\\rMilitary-grade permanent deletion of your sensitive files\\r\\rIt&#x2019;s easy for someone to recover deleted files from your hard drive or portable drives. Because of that, you may want to use a secure method to purge your sensitive data (bank statements, photos, etc.). This is exactly what Premier&#x2019;s Data Shredder does on a military-grade security level. \\r\\rMake your computer a data fortress\\r\\rYour private data shouldn&#x2019;t be available to anyone but you. So the silent firewall in Premier blocks hackers from stealing sensitive personal data from your PC. This new version was rebuilt to make faster decisions, work even better with Windows, and fully support IPv6. \\r\\rSay &#x22;Goodbye&#x22; to spam & phishing scams\\r\\rThe majority of spam includes harmful &#x2018;phishing&#x2019; links built specifically to exploit your PC or credit card data. This type of phishing email tries to convince you it&#x2019;s from a legitimate sender. Our anti-spam technology filters out such nuisances to save your time and protect you from potential headaches. \\r\\rDid it break? Fix it!\\r\\rIf anything nasty happens to your computer and some malware blocks access to your avast!, you fortunately were able to create an image of your avast! setup on a USB stick or CD/DVD ahead of time, which will help you restore the PC to its normal functions. \\r\\rSecure your financial transactions\\r\\rPrevent having your credit card or online banking data hacked and your money stolen. Use SafeZone, a Premier feature that secures sensitive transactions. Set your favorite banking or shopping sites to automatically launch SafeZone to ensure that all of your sensitive financial transactions stay private. \\r\\rIntelligent antivirus, anti-spyware, & anti-malware\\r\\rNot just a marketing phrase! Our DynaGen-powered antivirus streams hundreds of tiny real-time updates to your PC&#x2019;s virus database each day, to catch new malware faster. Its decisions are based on artificial intelligence that works inside the algorithm responsible for analyzing suspicious files. \\r\\rRun shady files in a virus-proof environment\\r\\rUnsure if the file you just downloaded is safe? Run it in the Sandbox, a virtual environment where you can run even the most heavily infected files safely. But you&#x2019;ll know if it&#x2019;s safe anyway, with our FileRep (file-reputation scanning) technology. \\r\\rOur crowd in the cloud\\r\\ravast! CommunityIQ is one of the world&#x2019;s fastest signature-based malware data sources. This early warning system is based on data from tens of millions of our customers who &#x2013; anonymously &#x2013; share any new pieces of malware they encounter.System Requirements:Processor:&#xa0;&#xa0;Pentium 3RAM:&#xa0;&#xa0;128 MBHard Disk:&#xa0;&#xa0;600 MB\",\n          \"Basic Virus protection System Requirements:\",\n          \"Guidance for all your personal tax situations. Federal forms and State forms. Step-by-step interviews guide you through a customized experience relevant to your tax situation. Everything you need to prepare your federal and state taxes in one complete program.  H&R Block At Home: Deluxe--Homeowners/Investors, Federal + State H&R Block At Home Deluxe is the right choice for those with more complex tax situations to easily complete their federal and state returns. It includes the H&R Block tax expertise you trust--plus H&R Block's maximum refund guarantee. H&R Block At Home Deluxe includes everything you need to easily complete your federal and state taxes--with the tax expertise you trust. With an easy-to-use interface, H&R Block At Home Deluxe searches for hundreds of deductions to get you the biggest refund. Ideal for homeowners and investors, the program includes personalized tax guidance and features available only from H&R Block, such as built-in expertise and audit support, expert advice from their community of tax specialists, an H&R Block enrolled agent to represent you in the event of an audit, and, best of all, H&R Block's maximum refund guarantee. *The assessment of your audit risk is not a guarantee that you will not be audited. **If you find another tax software preparation method that results in a larger refund (or smaller liability) than that calculated by the H&R Block At Home tax software program, we will refund the fees you paid us to use our tax software program to prepare that return. To qualify, the larger refund or smaller tax liability must not be due to differences in data supplied by you or positions taken on your return that are contrary to law.\"\n        ],\n        \"semantic_type\": \"\",\n        \"description\": \"\"\n      }\n    }\n  ]\n}"
            }
          },
          "metadata": {},
          "execution_count": 49
        }
      ]
    },
    {
      "cell_type": "code",
      "source": [
        "electronics_data.info()\n"
      ],
      "metadata": {
        "colab": {
          "base_uri": "https://localhost:8080/"
        },
        "id": "jipddJMmBY8j",
        "outputId": "bc061058-029a-4321-b5f8-9ad5a8057fd9"
      },
      "execution_count": 50,
      "outputs": [
        {
          "output_type": "stream",
          "name": "stdout",
          "text": [
            "<class 'pandas.core.frame.DataFrame'>\n",
            "RangeIndex: 20000 entries, 0 to 19999\n",
            "Data columns (total 7 columns):\n",
            " #   Column               Non-Null Count  Dtype  \n",
            "---  ------               --------------  -----  \n",
            " 0   Product_name         20000 non-null  object \n",
            " 1   Product_ID           20000 non-null  object \n",
            " 2   Product_image        20000 non-null  object \n",
            " 3   Price                20000 non-null  float64\n",
            " 4   User_ID              20000 non-null  object \n",
            " 5   Rating               20000 non-null  float64\n",
            " 6   Product_description  20000 non-null  object \n",
            "dtypes: float64(2), object(5)\n",
            "memory usage: 1.1+ MB\n"
          ]
        }
      ]
    },
    {
      "cell_type": "code",
      "source": [
        "#drop the columns and saving just the 3 columns of product_id, user_id, rating\n",
        "data = electronics_data.drop(['Product_name', 'Product_image', 'Price', 'Product_description'], axis=1)\n",
        "data.head(5)"
      ],
      "metadata": {
        "colab": {
          "base_uri": "https://localhost:8080/",
          "height": 206
        },
        "id": "_FZxqYKINY2y",
        "outputId": "75c38d95-b00e-4295-e120-cbd63b23b1d5"
      },
      "execution_count": 51,
      "outputs": [
        {
          "output_type": "execute_result",
          "data": {
            "text/plain": [
              "   Product_ID         User_ID  Rating\n",
              "0  B003YJ5DSS  A10W02UXELJ05N     1.0\n",
              "1  B001AMHWP8   AQZH7YTWQPOBE     4.0\n",
              "2  B00IT6WQDQ  A3UO13JYVKDFIN     3.0\n",
              "3  B00BKWXNDI  A1DECEN4B3U34K     5.0\n",
              "4  B01637RFR4  A3EPJP49I4T0Q4     5.0"
            ],
            "text/html": [
              "\n",
              "  <div id=\"df-1c9e8881-d080-4714-93a3-18cec74069af\" class=\"colab-df-container\">\n",
              "    <div>\n",
              "<style scoped>\n",
              "    .dataframe tbody tr th:only-of-type {\n",
              "        vertical-align: middle;\n",
              "    }\n",
              "\n",
              "    .dataframe tbody tr th {\n",
              "        vertical-align: top;\n",
              "    }\n",
              "\n",
              "    .dataframe thead th {\n",
              "        text-align: right;\n",
              "    }\n",
              "</style>\n",
              "<table border=\"1\" class=\"dataframe\">\n",
              "  <thead>\n",
              "    <tr style=\"text-align: right;\">\n",
              "      <th></th>\n",
              "      <th>Product_ID</th>\n",
              "      <th>User_ID</th>\n",
              "      <th>Rating</th>\n",
              "    </tr>\n",
              "  </thead>\n",
              "  <tbody>\n",
              "    <tr>\n",
              "      <th>0</th>\n",
              "      <td>B003YJ5DSS</td>\n",
              "      <td>A10W02UXELJ05N</td>\n",
              "      <td>1.0</td>\n",
              "    </tr>\n",
              "    <tr>\n",
              "      <th>1</th>\n",
              "      <td>B001AMHWP8</td>\n",
              "      <td>AQZH7YTWQPOBE</td>\n",
              "      <td>4.0</td>\n",
              "    </tr>\n",
              "    <tr>\n",
              "      <th>2</th>\n",
              "      <td>B00IT6WQDQ</td>\n",
              "      <td>A3UO13JYVKDFIN</td>\n",
              "      <td>3.0</td>\n",
              "    </tr>\n",
              "    <tr>\n",
              "      <th>3</th>\n",
              "      <td>B00BKWXNDI</td>\n",
              "      <td>A1DECEN4B3U34K</td>\n",
              "      <td>5.0</td>\n",
              "    </tr>\n",
              "    <tr>\n",
              "      <th>4</th>\n",
              "      <td>B01637RFR4</td>\n",
              "      <td>A3EPJP49I4T0Q4</td>\n",
              "      <td>5.0</td>\n",
              "    </tr>\n",
              "  </tbody>\n",
              "</table>\n",
              "</div>\n",
              "    <div class=\"colab-df-buttons\">\n",
              "\n",
              "  <div class=\"colab-df-container\">\n",
              "    <button class=\"colab-df-convert\" onclick=\"convertToInteractive('df-1c9e8881-d080-4714-93a3-18cec74069af')\"\n",
              "            title=\"Convert this dataframe to an interactive table.\"\n",
              "            style=\"display:none;\">\n",
              "\n",
              "  <svg xmlns=\"http://www.w3.org/2000/svg\" height=\"24px\" viewBox=\"0 -960 960 960\">\n",
              "    <path d=\"M120-120v-720h720v720H120Zm60-500h600v-160H180v160Zm220 220h160v-160H400v160Zm0 220h160v-160H400v160ZM180-400h160v-160H180v160Zm440 0h160v-160H620v160ZM180-180h160v-160H180v160Zm440 0h160v-160H620v160Z\"/>\n",
              "  </svg>\n",
              "    </button>\n",
              "\n",
              "  <style>\n",
              "    .colab-df-container {\n",
              "      display:flex;\n",
              "      gap: 12px;\n",
              "    }\n",
              "\n",
              "    .colab-df-convert {\n",
              "      background-color: #E8F0FE;\n",
              "      border: none;\n",
              "      border-radius: 50%;\n",
              "      cursor: pointer;\n",
              "      display: none;\n",
              "      fill: #1967D2;\n",
              "      height: 32px;\n",
              "      padding: 0 0 0 0;\n",
              "      width: 32px;\n",
              "    }\n",
              "\n",
              "    .colab-df-convert:hover {\n",
              "      background-color: #E2EBFA;\n",
              "      box-shadow: 0px 1px 2px rgba(60, 64, 67, 0.3), 0px 1px 3px 1px rgba(60, 64, 67, 0.15);\n",
              "      fill: #174EA6;\n",
              "    }\n",
              "\n",
              "    .colab-df-buttons div {\n",
              "      margin-bottom: 4px;\n",
              "    }\n",
              "\n",
              "    [theme=dark] .colab-df-convert {\n",
              "      background-color: #3B4455;\n",
              "      fill: #D2E3FC;\n",
              "    }\n",
              "\n",
              "    [theme=dark] .colab-df-convert:hover {\n",
              "      background-color: #434B5C;\n",
              "      box-shadow: 0px 1px 3px 1px rgba(0, 0, 0, 0.15);\n",
              "      filter: drop-shadow(0px 1px 2px rgba(0, 0, 0, 0.3));\n",
              "      fill: #FFFFFF;\n",
              "    }\n",
              "  </style>\n",
              "\n",
              "    <script>\n",
              "      const buttonEl =\n",
              "        document.querySelector('#df-1c9e8881-d080-4714-93a3-18cec74069af button.colab-df-convert');\n",
              "      buttonEl.style.display =\n",
              "        google.colab.kernel.accessAllowed ? 'block' : 'none';\n",
              "\n",
              "      async function convertToInteractive(key) {\n",
              "        const element = document.querySelector('#df-1c9e8881-d080-4714-93a3-18cec74069af');\n",
              "        const dataTable =\n",
              "          await google.colab.kernel.invokeFunction('convertToInteractive',\n",
              "                                                    [key], {});\n",
              "        if (!dataTable) return;\n",
              "\n",
              "        const docLinkHtml = 'Like what you see? Visit the ' +\n",
              "          '<a target=\"_blank\" href=https://colab.research.google.com/notebooks/data_table.ipynb>data table notebook</a>'\n",
              "          + ' to learn more about interactive tables.';\n",
              "        element.innerHTML = '';\n",
              "        dataTable['output_type'] = 'display_data';\n",
              "        await google.colab.output.renderOutput(dataTable, element);\n",
              "        const docLink = document.createElement('div');\n",
              "        docLink.innerHTML = docLinkHtml;\n",
              "        element.appendChild(docLink);\n",
              "      }\n",
              "    </script>\n",
              "  </div>\n",
              "\n",
              "\n",
              "<div id=\"df-eca575cb-30b1-40eb-958c-55b2e35e7a60\">\n",
              "  <button class=\"colab-df-quickchart\" onclick=\"quickchart('df-eca575cb-30b1-40eb-958c-55b2e35e7a60')\"\n",
              "            title=\"Suggest charts\"\n",
              "            style=\"display:none;\">\n",
              "\n",
              "<svg xmlns=\"http://www.w3.org/2000/svg\" height=\"24px\"viewBox=\"0 0 24 24\"\n",
              "     width=\"24px\">\n",
              "    <g>\n",
              "        <path d=\"M19 3H5c-1.1 0-2 .9-2 2v14c0 1.1.9 2 2 2h14c1.1 0 2-.9 2-2V5c0-1.1-.9-2-2-2zM9 17H7v-7h2v7zm4 0h-2V7h2v10zm4 0h-2v-4h2v4z\"/>\n",
              "    </g>\n",
              "</svg>\n",
              "  </button>\n",
              "\n",
              "<style>\n",
              "  .colab-df-quickchart {\n",
              "      --bg-color: #E8F0FE;\n",
              "      --fill-color: #1967D2;\n",
              "      --hover-bg-color: #E2EBFA;\n",
              "      --hover-fill-color: #174EA6;\n",
              "      --disabled-fill-color: #AAA;\n",
              "      --disabled-bg-color: #DDD;\n",
              "  }\n",
              "\n",
              "  [theme=dark] .colab-df-quickchart {\n",
              "      --bg-color: #3B4455;\n",
              "      --fill-color: #D2E3FC;\n",
              "      --hover-bg-color: #434B5C;\n",
              "      --hover-fill-color: #FFFFFF;\n",
              "      --disabled-bg-color: #3B4455;\n",
              "      --disabled-fill-color: #666;\n",
              "  }\n",
              "\n",
              "  .colab-df-quickchart {\n",
              "    background-color: var(--bg-color);\n",
              "    border: none;\n",
              "    border-radius: 50%;\n",
              "    cursor: pointer;\n",
              "    display: none;\n",
              "    fill: var(--fill-color);\n",
              "    height: 32px;\n",
              "    padding: 0;\n",
              "    width: 32px;\n",
              "  }\n",
              "\n",
              "  .colab-df-quickchart:hover {\n",
              "    background-color: var(--hover-bg-color);\n",
              "    box-shadow: 0 1px 2px rgba(60, 64, 67, 0.3), 0 1px 3px 1px rgba(60, 64, 67, 0.15);\n",
              "    fill: var(--button-hover-fill-color);\n",
              "  }\n",
              "\n",
              "  .colab-df-quickchart-complete:disabled,\n",
              "  .colab-df-quickchart-complete:disabled:hover {\n",
              "    background-color: var(--disabled-bg-color);\n",
              "    fill: var(--disabled-fill-color);\n",
              "    box-shadow: none;\n",
              "  }\n",
              "\n",
              "  .colab-df-spinner {\n",
              "    border: 2px solid var(--fill-color);\n",
              "    border-color: transparent;\n",
              "    border-bottom-color: var(--fill-color);\n",
              "    animation:\n",
              "      spin 1s steps(1) infinite;\n",
              "  }\n",
              "\n",
              "  @keyframes spin {\n",
              "    0% {\n",
              "      border-color: transparent;\n",
              "      border-bottom-color: var(--fill-color);\n",
              "      border-left-color: var(--fill-color);\n",
              "    }\n",
              "    20% {\n",
              "      border-color: transparent;\n",
              "      border-left-color: var(--fill-color);\n",
              "      border-top-color: var(--fill-color);\n",
              "    }\n",
              "    30% {\n",
              "      border-color: transparent;\n",
              "      border-left-color: var(--fill-color);\n",
              "      border-top-color: var(--fill-color);\n",
              "      border-right-color: var(--fill-color);\n",
              "    }\n",
              "    40% {\n",
              "      border-color: transparent;\n",
              "      border-right-color: var(--fill-color);\n",
              "      border-top-color: var(--fill-color);\n",
              "    }\n",
              "    60% {\n",
              "      border-color: transparent;\n",
              "      border-right-color: var(--fill-color);\n",
              "    }\n",
              "    80% {\n",
              "      border-color: transparent;\n",
              "      border-right-color: var(--fill-color);\n",
              "      border-bottom-color: var(--fill-color);\n",
              "    }\n",
              "    90% {\n",
              "      border-color: transparent;\n",
              "      border-bottom-color: var(--fill-color);\n",
              "    }\n",
              "  }\n",
              "</style>\n",
              "\n",
              "  <script>\n",
              "    async function quickchart(key) {\n",
              "      const quickchartButtonEl =\n",
              "        document.querySelector('#' + key + ' button');\n",
              "      quickchartButtonEl.disabled = true;  // To prevent multiple clicks.\n",
              "      quickchartButtonEl.classList.add('colab-df-spinner');\n",
              "      try {\n",
              "        const charts = await google.colab.kernel.invokeFunction(\n",
              "            'suggestCharts', [key], {});\n",
              "      } catch (error) {\n",
              "        console.error('Error during call to suggestCharts:', error);\n",
              "      }\n",
              "      quickchartButtonEl.classList.remove('colab-df-spinner');\n",
              "      quickchartButtonEl.classList.add('colab-df-quickchart-complete');\n",
              "    }\n",
              "    (() => {\n",
              "      let quickchartButtonEl =\n",
              "        document.querySelector('#df-eca575cb-30b1-40eb-958c-55b2e35e7a60 button');\n",
              "      quickchartButtonEl.style.display =\n",
              "        google.colab.kernel.accessAllowed ? 'block' : 'none';\n",
              "    })();\n",
              "  </script>\n",
              "</div>\n",
              "\n",
              "    </div>\n",
              "  </div>\n"
            ],
            "application/vnd.google.colaboratory.intrinsic+json": {
              "type": "dataframe",
              "variable_name": "data",
              "summary": "{\n  \"name\": \"data\",\n  \"rows\": 20000,\n  \"fields\": [\n    {\n      \"column\": \"Product_ID\",\n      \"properties\": {\n        \"dtype\": \"category\",\n        \"num_unique_values\": 1387,\n        \"samples\": [\n          \"B00P6U8B96\",\n          \"B00OZ1XKJS\",\n          \"B00282UXC8\"\n        ],\n        \"semantic_type\": \"\",\n        \"description\": \"\"\n      }\n    },\n    {\n      \"column\": \"User_ID\",\n      \"properties\": {\n        \"dtype\": \"string\",\n        \"num_unique_values\": 19704,\n        \"samples\": [\n          \"AN0N05A9LIJEQ\",\n          \"A2FB2XNFPVMWY4\",\n          \"A3KIHLBDK90IJB\"\n        ],\n        \"semantic_type\": \"\",\n        \"description\": \"\"\n      }\n    },\n    {\n      \"column\": \"Rating\",\n      \"properties\": {\n        \"dtype\": \"number\",\n        \"std\": 1.595276791939927,\n        \"min\": 1.0,\n        \"max\": 5.0,\n        \"num_unique_values\": 5,\n        \"samples\": [\n          4.0,\n          2.0,\n          3.0\n        ],\n        \"semantic_type\": \"\",\n        \"description\": \"\"\n      }\n    }\n  ]\n}"
            }
          },
          "metadata": {},
          "execution_count": 51
        }
      ]
    },
    {
      "cell_type": "code",
      "source": [
        "#Reading the dataset\n",
        "reader = Reader(rating_scale=(1, 5))\n",
        "surprise_data = Dataset.load_from_df(data, reader)"
      ],
      "metadata": {
        "id": "AqF-mqX7BZHD"
      },
      "execution_count": 52,
      "outputs": []
    },
    {
      "cell_type": "code",
      "source": [
        "#Splitting surprise the dataset into 70,30 ratio using train_test_split\n",
        "trainset, testset = train_test_split(surprise_data, test_size=0.3,random_state=42)"
      ],
      "metadata": {
        "id": "hXi7laGdBZJj"
      },
      "execution_count": 53,
      "outputs": []
    },
    {
      "cell_type": "code",
      "source": [
        "# Number of users in the trainset\n",
        "print(f\"Number of users: {trainset.n_users}\")\n",
        "\n",
        "# Number of items in the trainset\n",
        "print(f\"Number of items: {trainset.n_items}\")\n",
        "\n",
        "# Number of ratings in the trainset\n",
        "print(f\"Number of ratings: {trainset.n_ratings}\")"
      ],
      "metadata": {
        "id": "sd5C4yBwBZML",
        "colab": {
          "base_uri": "https://localhost:8080/"
        },
        "outputId": "c1ea925a-cd86-4b0a-dca5-607993b4c8c0"
      },
      "execution_count": 54,
      "outputs": [
        {
          "output_type": "stream",
          "name": "stdout",
          "text": [
            "Number of users: 1361\n",
            "Number of items: 13840\n",
            "Number of ratings: 14000\n"
          ]
        }
      ]
    },
    {
      "cell_type": "code",
      "source": [
        "from surprise import KNNBasic, KNNWithMeans, KNNWithZScore, KNNBaseline, CoClustering, SVD\n",
        "predictions =[]\n",
        "# Use user_based true/false to switch between user-based or item-based collaborative filtering\n",
        "algo = KNNWithMeans(k=2, sim_options={'name': 'pearson_baseline', 'user_based': False})\n",
        "algo1 = KNNBasic(k=2, sim_options={'name': 'pearson_baseline', 'user_based': False})\n",
        "algo2 = KNNBaseline(k=2, sim_options={'name': 'pearson_baseline', 'user_based': False})\n",
        "algo3 = KNNWithZScore(k=2, sim_options={'name': 'pearson_baseline', 'user_based': False})\n",
        "algo4 = SVD()\n",
        "algo5 = CoClustering()\n",
        "#regrouper les modèles en une liste\n",
        "score = [algo, algo1, algo2, algo3, algo4, algo5]\n",
        "#boucle pour calculer l'erreru RMSE pour chaque modèle\n",
        "for alg in score:\n",
        "  alg.fit(trainset)\n",
        "  alg.test(testset)\n",
        "  test_pred=alg.test(testset)\n",
        "  predictions.append(accuracy.rmse(test_pred ,verbose=True))\n",
        "#make prediction using testset\n",
        "print(predictions)\n",
        "#choisir le modèle qui possède le min des erreurs\n",
        "minValue = min(predictions)\n",
        "index = predictions.index(minValue)\n",
        "print(index)\n",
        "alg = score[index]\n"
      ],
      "metadata": {
        "id": "dbWjLZi1BZOj",
        "colab": {
          "base_uri": "https://localhost:8080/"
        },
        "outputId": "5f4561c5-7dc2-48d2-ecf4-a9801fbc78fe"
      },
      "execution_count": 55,
      "outputs": [
        {
          "output_type": "stream",
          "name": "stdout",
          "text": [
            "Estimating biases using als...\n",
            "Computing the pearson_baseline similarity matrix...\n",
            "Done computing similarity matrix.\n",
            "RMSE: 1.5826\n",
            "Estimating biases using als...\n",
            "Computing the pearson_baseline similarity matrix...\n",
            "Done computing similarity matrix.\n",
            "RMSE: 1.5835\n",
            "Estimating biases using als...\n",
            "Computing the pearson_baseline similarity matrix...\n",
            "Done computing similarity matrix.\n",
            "RMSE: 1.5188\n",
            "Estimating biases using als...\n",
            "Computing the pearson_baseline similarity matrix...\n",
            "Done computing similarity matrix.\n",
            "RMSE: 1.5826\n",
            "RMSE: 1.5138\n",
            "RMSE: 1.5831\n",
            "[1.5826073025791556, 1.5834869427813996, 1.5187567291629847, 1.5826073025791556, 1.513769369659026, 1.5831402600495956]\n",
            "4\n"
          ]
        }
      ]
    },
    {
      "cell_type": "code",
      "source": [
        "# Get the dictionary of user ratings (user_id => [(item_inner_id, rating)])\n",
        "user_ratings = trainset.ur\n",
        "\n",
        "# Access user IDs along with their respective indices\n",
        "for user_id, user_ratings_list in user_ratings.items():\n",
        "    id_user = trainset.to_raw_uid(user_id)\n",
        "    print(f\"User ID: {user_id}, Index: {trainset.to_raw_uid(user_id)}\")\n",
        "    break\n",
        "print(id_user)"
      ],
      "metadata": {
        "colab": {
          "base_uri": "https://localhost:8080/"
        },
        "id": "1cumJFFLD8Yj",
        "outputId": "91d87707-09fa-41f4-8c94-e9b57abb928e"
      },
      "execution_count": 56,
      "outputs": [
        {
          "output_type": "stream",
          "name": "stdout",
          "text": [
            "User ID: 0, Index: B006T4SQG6\n",
            "B006T4SQG6\n"
          ]
        }
      ]
    },
    {
      "cell_type": "code",
      "source": [
        "# Get the dictionary of item ratings (item_id => [(user_inner_id, rating)])\n",
        "item_ratings = trainset.ur\n",
        "\n",
        "# Access item IDs along with their respective indices\n",
        "for item_id, item_ratings_list in item_ratings.items():\n",
        "    id_item = trainset.to_raw_uid(item_id)\n",
        "    print(f\"Item ID: {item_id}, Index: {id_item}\")\n",
        "    break\n",
        "print(id_item)"
      ],
      "metadata": {
        "colab": {
          "base_uri": "https://localhost:8080/"
        },
        "id": "EbWDqXtk3w2o",
        "outputId": "448fbf34-7037-4374-ac82-a6a52ac93280"
      },
      "execution_count": 57,
      "outputs": [
        {
          "output_type": "stream",
          "name": "stdout",
          "text": [
            "Item ID: 0, Index: B006T4SQG6\n",
            "B006T4SQG6\n"
          ]
        }
      ]
    },
    {
      "cell_type": "code",
      "source": [
        "# Get the dictionary of user ratings (user_id => [(item_inner_id, rating)])\n",
        "user_ratings = trainset.ur\n",
        "\n",
        "# Access user IDs along with their respective ratings\n",
        "for user_id, user_ratings_list in user_ratings.items():\n",
        "    id_user = trainset.to_raw_uid(user_id)\n",
        "\n",
        "    print(f\"User ID: {id_user}, Ratings: {user_ratings_list[0][0]}\")\n",
        "    break"
      ],
      "metadata": {
        "colab": {
          "base_uri": "https://localhost:8080/"
        },
        "id": "d-mYH224gudt",
        "outputId": "6e1395e0-a02b-45c3-dc40-8ddfa5a0a4b2"
      },
      "execution_count": 58,
      "outputs": [
        {
          "output_type": "stream",
          "name": "stdout",
          "text": [
            "User ID: B006T4SQG6, Ratings: 0\n"
          ]
        }
      ]
    },
    {
      "cell_type": "code",
      "source": [
        "import pickle\n",
        "\n",
        "# Assuming 'algo' is your trained model\n",
        "# Save the model to a file\n",
        "with open('trained_model.pkl', 'wb') as f:\n",
        "    pickle.dump(alg, f)\n",
        "\n",
        "# Load the saved model from the file\n",
        "with open('trained_model.pkl', 'rb') as f:\n",
        "    loaded_model = pickle.load(f)"
      ],
      "metadata": {
        "id": "bUJmaDlvgOR8"
      },
      "execution_count": 59,
      "outputs": []
    },
    {
      "cell_type": "markdown",
      "source": [],
      "metadata": {
        "id": "sLtVcyx6Mc25"
      }
    },
    {
      "cell_type": "code",
      "source": [
        "# Function to get recommended items for a specific user\n",
        "def get_recommendations(algo, trainset, user_raw_id, n_recommendations):\n",
        "    # Convert raw user ID to internal ID\n",
        "    user_inner_id = trainset.to_inner_uid(user_raw_id)\n",
        "    # Get all rated items for this user\n",
        "    rated_items = set(x for x in trainset.ur[user_inner_id])\n",
        "    #print(rated_items)\n",
        "    # Create a list of all item IDs\n",
        "    all_items = set(trainset.to_raw_iid(x) for x in range(trainset.n_items))\n",
        "    # Get unrated items\n",
        "    unrated_items = all_items - rated_items\n",
        "    # Predict ratings for unrated items\n",
        "    predictions = []\n",
        "    for item in unrated_items:\n",
        "        prediction = algo.predict(user_raw_id, item)\n",
        "        predictions.append(prediction)\n",
        "    # Sort predictions based on estimated rating\n",
        "    predictions.sort(key=lambda x: x.est, reverse=True)\n",
        "    # Return the top N recommendations\n",
        "    return predictions[:n_recommendations]  # Return the top N recommendations as a list of tuples\n",
        "# Example: Get top 10 recommendations for a specific user (raw ID)\n",
        "user_raw_id = id_user  # Replace with the raw ID of the desired user\n",
        "recommendations = get_recommendations(loaded_model, trainset, user_raw_id, 10)\n",
        "# Display the top 10 recommended items for the user\n",
        "for prediction in recommendations:\n",
        "    print(f\"Item: {prediction.uid}, Estimated Rating: {prediction.est:.2f}\")\n"
      ],
      "metadata": {
        "colab": {
          "base_uri": "https://localhost:8080/"
        },
        "id": "v7uEvw6KBZYV",
        "outputId": "3b8287e6-7fdb-421f-c03d-189d83fac60c"
      },
      "execution_count": 60,
      "outputs": [
        {
          "output_type": "stream",
          "name": "stdout",
          "text": [
            "Item: B006T4SQG6, Estimated Rating: 4.90\n",
            "Item: B006T4SQG6, Estimated Rating: 4.86\n",
            "Item: B006T4SQG6, Estimated Rating: 4.85\n",
            "Item: B006T4SQG6, Estimated Rating: 4.81\n",
            "Item: B006T4SQG6, Estimated Rating: 4.81\n",
            "Item: B006T4SQG6, Estimated Rating: 4.80\n",
            "Item: B006T4SQG6, Estimated Rating: 4.80\n",
            "Item: B006T4SQG6, Estimated Rating: 4.79\n",
            "Item: B006T4SQG6, Estimated Rating: 4.79\n",
            "Item: B006T4SQG6, Estimated Rating: 4.79\n"
          ]
        }
      ]
    },
    {
      "cell_type": "markdown",
      "source": [],
      "metadata": {
        "id": "BRq-KIJuPHVO"
      }
    }
  ]
}