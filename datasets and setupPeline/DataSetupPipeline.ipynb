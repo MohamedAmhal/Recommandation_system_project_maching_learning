{
  "nbformat": 4,
  "nbformat_minor": 0,
  "metadata": {
    "colab": {
      "provenance": []
    },
    "kernelspec": {
      "name": "python3",
      "display_name": "Python 3"
    },
    "language_info": {
      "name": "python"
    }
  },
  "cells": [
    {
      "cell_type": "code",
      "execution_count": null,
      "metadata": {
        "id": "INvx43G5DJL5"
      },
      "outputs": [],
      "source": [
        "import plotly.express as px\n",
        "import pandas as pd\n",
        "import gzip\n",
        "import json\n",
        "from google.colab import files\n",
        "import missingno as msno"
      ]
    },
    {
      "cell_type": "code",
      "source": [
        "# df = pd.read_csv(file_path)"
      ],
      "metadata": {
        "id": "utbNQ3QZHp88"
      },
      "execution_count": null,
      "outputs": []
    },
    {
      "cell_type": "code",
      "source": [
        "# df_100Only = df.head(100)"
      ],
      "metadata": {
        "id": "worO-jPQJAPL"
      },
      "execution_count": null,
      "outputs": []
    },
    {
      "cell_type": "code",
      "source": [
        "# to_send = df.to_csv(\"moviesAndTvsMerged-100rowsOnly.csv\")"
      ],
      "metadata": {
        "id": "LVZhxOabIlBU"
      },
      "execution_count": null,
      "outputs": []
    },
    {
      "cell_type": "code",
      "source": [
        "file_path1 = \"/content/drive/MyDrive/RECsys/meta_Movies_and_TV.json.gz\""
      ],
      "metadata": {
        "id": "2FS28WYGK78s"
      },
      "execution_count": null,
      "outputs": []
    },
    {
      "cell_type": "code",
      "source": [
        "file_path2 = \"/content/drive/MyDrive/RECsys/Movies_and_TV.json.gz\""
      ],
      "metadata": {
        "id": "adP-N7tTRSeO"
      },
      "execution_count": null,
      "outputs": []
    },
    {
      "cell_type": "code",
      "source": [
        "def readJSON(file_path, inChunks, percentage):\n",
        "    \"\"\"\n",
        "    The readJSON function decompresses a .gz file containing list of Json\n",
        "    onjects and reads in chunks based when the inChunks parameter is set to True.\n",
        "\n",
        "    :file_path: The path of the file to be read.\n",
        "    :inChunks:  If True, reads the file in chunks based on the percentage\n",
        "    parameter.\n",
        "                If False, reads the entire file.\n",
        "    :percentage: The total percentage to read from the file if inChunks is True.\n",
        "    :return: returns a list of Json objects.\n",
        "    \"\"\"\n",
        "\n",
        "    json_objects = []\n",
        "\n",
        "    if (inChunks is False):\n",
        "        precentage = 1\n",
        "\n",
        "    with gzip.open(file_path, 'rt') as f:\n",
        "        total_lines = sum(1 for line in f)\n",
        "        fraction = round(total_lines * percentage)\n",
        "\n",
        "    with gzip.open(file_path, 'rt') as f:\n",
        "        for i, line in enumerate(f):\n",
        "            if i > fraction:\n",
        "              break\n",
        "            try:\n",
        "              json_data = json.loads(line)\n",
        "              json_objects.append(json_data)\n",
        "            except json.JSONDecodeError:\n",
        "              print(f\"Error parsing line: {line}\")\n",
        "\n",
        "    return json_objects"
      ],
      "metadata": {
        "id": "QTBk_TnlElRv"
      },
      "execution_count": null,
      "outputs": []
    },
    {
      "cell_type": "code",
      "source": [
        "json_objects1 = readJSON(file_path1, True, 0.8)"
      ],
      "metadata": {
        "id": "U0qmzhzPURom"
      },
      "execution_count": null,
      "outputs": []
    },
    {
      "cell_type": "code",
      "source": [
        "json_objects2 = readJSON(file_path2, True, 0.25)"
      ],
      "metadata": {
        "id": "hJTPMKc6ULVH"
      },
      "execution_count": null,
      "outputs": []
    },
    {
      "cell_type": "code",
      "source": [
        "df1 = pd.DataFrame.from_records(json_objects1)"
      ],
      "metadata": {
        "id": "Ene9HXqoIRCa"
      },
      "execution_count": null,
      "outputs": []
    },
    {
      "cell_type": "code",
      "source": [
        "df2 = pd.DataFrame.from_records(json_objects2)"
      ],
      "metadata": {
        "id": "xmB-LaqTUc_j"
      },
      "execution_count": null,
      "outputs": []
    },
    {
      "cell_type": "code",
      "source": [
        "newDF1 = df1[['title', 'asin', 'imageURLHighRes', 'price', 'description']]"
      ],
      "metadata": {
        "id": "8hGILMiQ6oAU"
      },
      "execution_count": null,
      "outputs": []
    },
    {
      "cell_type": "code",
      "source": [
        "newDF2 = df2[['reviewerID', 'asin', 'overall']]"
      ],
      "metadata": {
        "id": "i-lspchz6jMs"
      },
      "execution_count": null,
      "outputs": []
    },
    {
      "cell_type": "code",
      "source": [
        "newDF1.rename(columns={'title': 'name', 'imageURLHighRes': 'image', 'asin': 'productID', 'reviewerID': 'userID'}, inplace=True)"
      ],
      "metadata": {
        "colab": {
          "base_uri": "https://localhost:8080/"
        },
        "id": "HdHxguOc8jM3",
        "outputId": "8debc7fb-3e31-4844-b764-faecdf7656de"
      },
      "execution_count": null,
      "outputs": [
        {
          "output_type": "stream",
          "name": "stderr",
          "text": [
            "<ipython-input-14-b0250534dc09>:1: SettingWithCopyWarning: \n",
            "A value is trying to be set on a copy of a slice from a DataFrame\n",
            "\n",
            "See the caveats in the documentation: https://pandas.pydata.org/pandas-docs/stable/user_guide/indexing.html#returning-a-view-versus-a-copy\n",
            "  newDF1.rename(columns={'title': 'name', 'imageURLHighRes': 'image', 'asin': 'productID', 'reviewerID': 'userID'}, inplace=True)\n"
          ]
        }
      ]
    },
    {
      "cell_type": "code",
      "source": [
        "newDF2.rename(columns={'asin': 'productID', 'reviewerID': 'userID'}, inplace=True)"
      ],
      "metadata": {
        "colab": {
          "base_uri": "https://localhost:8080/"
        },
        "id": "BUP9vzSG_avn",
        "outputId": "c5b8cab1-c45a-4e98-c501-48dd8a569ef0"
      },
      "execution_count": null,
      "outputs": [
        {
          "output_type": "stream",
          "name": "stderr",
          "text": [
            "<ipython-input-15-7ff50cc54c5d>:1: SettingWithCopyWarning: \n",
            "A value is trying to be set on a copy of a slice from a DataFrame\n",
            "\n",
            "See the caveats in the documentation: https://pandas.pydata.org/pandas-docs/stable/user_guide/indexing.html#returning-a-view-versus-a-copy\n",
            "  newDF2.rename(columns={'asin': 'productID', 'reviewerID': 'userID'}, inplace=True)\n"
          ]
        }
      ]
    },
    {
      "cell_type": "code",
      "source": [
        "merged_df = pd.merge(newDF1, newDF2, on='productID', how='inner')"
      ],
      "metadata": {
        "id": "8X86Ufhd_AvQ"
      },
      "execution_count": null,
      "outputs": []
    },
    {
      "cell_type": "code",
      "source": [
        "merged_df"
      ],
      "metadata": {
        "id": "w2sTKoErIlNK",
        "colab": {
          "base_uri": "https://localhost:8080/",
          "height": 510
        },
        "outputId": "61132279-8969-4785-f33e-584da34d9c2e"
      },
      "execution_count": null,
      "outputs": [
        {
          "output_type": "execute_result",
          "data": {
            "text/plain": [
              "                                                      name   productID image  \\\n",
              "0        Steve Green: Hide 'em in Your Heart: 13 Bible ...  0001526863    []   \n",
              "1        Steve Green: Hide 'em in Your Heart: 13 Bible ...  0001526863    []   \n",
              "2        Steve Green: Hide 'em in Your Heart: 13 Bible ...  0001526863    []   \n",
              "3        Steve Green: Hide 'em in Your Heart: 13 Bible ...  0001526863    []   \n",
              "4        Steve Green: Hide 'em in Your Heart: 13 Bible ...  0001526863    []   \n",
              "...                                                    ...         ...   ...   \n",
              "3127769                            Hard Hat Harry's 6-Pack  B0006Q944Q    []   \n",
              "3127770                            Hard Hat Harry's 6-Pack  B0006Q944Q    []   \n",
              "3127771                            Hard Hat Harry's 6-Pack  B0006Q944Q    []   \n",
              "3127772                            Hard Hat Harry's 6-Pack  B0006Q944Q    []   \n",
              "3127773                            Hard Hat Harry's 6-Pack  B0006Q944Q    []   \n",
              "\n",
              "        price                                        description  \\\n",
              "0              [Steve Green: Hide 'em in Your Heart: 13 Bible...   \n",
              "1              [Steve Green: Hide 'em in Your Heart: 13 Bible...   \n",
              "2              [Steve Green: Hide 'em in Your Heart: 13 Bible...   \n",
              "3              [Steve Green: Hide 'em in Your Heart: 13 Bible...   \n",
              "4              [Steve Green: Hide 'em in Your Heart: 13 Bible...   \n",
              "...       ...                                                ...   \n",
              "3127769                                                       []   \n",
              "3127770                                                       []   \n",
              "3127771                                                       []   \n",
              "3127772                                                       []   \n",
              "3127773                                                       []   \n",
              "\n",
              "                 userID  overall  \n",
              "0         AT4UZKGPQ719W      5.0  \n",
              "1        A2DZ09ET7S7ISG      5.0  \n",
              "2        A238RV4L8SVTSF      5.0  \n",
              "3        A3DU3JGKKYJ6Q0      5.0  \n",
              "4         ADJY91Y3KZMYG      5.0  \n",
              "...                 ...      ...  \n",
              "3127769  A3OBW7ZP7B1Y1N      5.0  \n",
              "3127770  A22KEVEVFUVB13      5.0  \n",
              "3127771  A3VXG8GCQ11HP9      5.0  \n",
              "3127772  A203D6S0DDOAAA      5.0  \n",
              "3127773   AB241DGH96STG      5.0  \n",
              "\n",
              "[3127774 rows x 7 columns]"
            ],
            "text/html": [
              "\n",
              "  <div id=\"df-d9381104-f02d-4f5d-9019-f4d9fc19e970\" class=\"colab-df-container\">\n",
              "    <div>\n",
              "<style scoped>\n",
              "    .dataframe tbody tr th:only-of-type {\n",
              "        vertical-align: middle;\n",
              "    }\n",
              "\n",
              "    .dataframe tbody tr th {\n",
              "        vertical-align: top;\n",
              "    }\n",
              "\n",
              "    .dataframe thead th {\n",
              "        text-align: right;\n",
              "    }\n",
              "</style>\n",
              "<table border=\"1\" class=\"dataframe\">\n",
              "  <thead>\n",
              "    <tr style=\"text-align: right;\">\n",
              "      <th></th>\n",
              "      <th>name</th>\n",
              "      <th>productID</th>\n",
              "      <th>image</th>\n",
              "      <th>price</th>\n",
              "      <th>description</th>\n",
              "      <th>userID</th>\n",
              "      <th>overall</th>\n",
              "    </tr>\n",
              "  </thead>\n",
              "  <tbody>\n",
              "    <tr>\n",
              "      <th>0</th>\n",
              "      <td>Steve Green: Hide 'em in Your Heart: 13 Bible ...</td>\n",
              "      <td>0001526863</td>\n",
              "      <td>[]</td>\n",
              "      <td></td>\n",
              "      <td>[Steve Green: Hide 'em in Your Heart: 13 Bible...</td>\n",
              "      <td>AT4UZKGPQ719W</td>\n",
              "      <td>5.0</td>\n",
              "    </tr>\n",
              "    <tr>\n",
              "      <th>1</th>\n",
              "      <td>Steve Green: Hide 'em in Your Heart: 13 Bible ...</td>\n",
              "      <td>0001526863</td>\n",
              "      <td>[]</td>\n",
              "      <td></td>\n",
              "      <td>[Steve Green: Hide 'em in Your Heart: 13 Bible...</td>\n",
              "      <td>A2DZ09ET7S7ISG</td>\n",
              "      <td>5.0</td>\n",
              "    </tr>\n",
              "    <tr>\n",
              "      <th>2</th>\n",
              "      <td>Steve Green: Hide 'em in Your Heart: 13 Bible ...</td>\n",
              "      <td>0001526863</td>\n",
              "      <td>[]</td>\n",
              "      <td></td>\n",
              "      <td>[Steve Green: Hide 'em in Your Heart: 13 Bible...</td>\n",
              "      <td>A238RV4L8SVTSF</td>\n",
              "      <td>5.0</td>\n",
              "    </tr>\n",
              "    <tr>\n",
              "      <th>3</th>\n",
              "      <td>Steve Green: Hide 'em in Your Heart: 13 Bible ...</td>\n",
              "      <td>0001526863</td>\n",
              "      <td>[]</td>\n",
              "      <td></td>\n",
              "      <td>[Steve Green: Hide 'em in Your Heart: 13 Bible...</td>\n",
              "      <td>A3DU3JGKKYJ6Q0</td>\n",
              "      <td>5.0</td>\n",
              "    </tr>\n",
              "    <tr>\n",
              "      <th>4</th>\n",
              "      <td>Steve Green: Hide 'em in Your Heart: 13 Bible ...</td>\n",
              "      <td>0001526863</td>\n",
              "      <td>[]</td>\n",
              "      <td></td>\n",
              "      <td>[Steve Green: Hide 'em in Your Heart: 13 Bible...</td>\n",
              "      <td>ADJY91Y3KZMYG</td>\n",
              "      <td>5.0</td>\n",
              "    </tr>\n",
              "    <tr>\n",
              "      <th>...</th>\n",
              "      <td>...</td>\n",
              "      <td>...</td>\n",
              "      <td>...</td>\n",
              "      <td>...</td>\n",
              "      <td>...</td>\n",
              "      <td>...</td>\n",
              "      <td>...</td>\n",
              "    </tr>\n",
              "    <tr>\n",
              "      <th>3127769</th>\n",
              "      <td>Hard Hat Harry's 6-Pack</td>\n",
              "      <td>B0006Q944Q</td>\n",
              "      <td>[]</td>\n",
              "      <td></td>\n",
              "      <td>[]</td>\n",
              "      <td>A3OBW7ZP7B1Y1N</td>\n",
              "      <td>5.0</td>\n",
              "    </tr>\n",
              "    <tr>\n",
              "      <th>3127770</th>\n",
              "      <td>Hard Hat Harry's 6-Pack</td>\n",
              "      <td>B0006Q944Q</td>\n",
              "      <td>[]</td>\n",
              "      <td></td>\n",
              "      <td>[]</td>\n",
              "      <td>A22KEVEVFUVB13</td>\n",
              "      <td>5.0</td>\n",
              "    </tr>\n",
              "    <tr>\n",
              "      <th>3127771</th>\n",
              "      <td>Hard Hat Harry's 6-Pack</td>\n",
              "      <td>B0006Q944Q</td>\n",
              "      <td>[]</td>\n",
              "      <td></td>\n",
              "      <td>[]</td>\n",
              "      <td>A3VXG8GCQ11HP9</td>\n",
              "      <td>5.0</td>\n",
              "    </tr>\n",
              "    <tr>\n",
              "      <th>3127772</th>\n",
              "      <td>Hard Hat Harry's 6-Pack</td>\n",
              "      <td>B0006Q944Q</td>\n",
              "      <td>[]</td>\n",
              "      <td></td>\n",
              "      <td>[]</td>\n",
              "      <td>A203D6S0DDOAAA</td>\n",
              "      <td>5.0</td>\n",
              "    </tr>\n",
              "    <tr>\n",
              "      <th>3127773</th>\n",
              "      <td>Hard Hat Harry's 6-Pack</td>\n",
              "      <td>B0006Q944Q</td>\n",
              "      <td>[]</td>\n",
              "      <td></td>\n",
              "      <td>[]</td>\n",
              "      <td>AB241DGH96STG</td>\n",
              "      <td>5.0</td>\n",
              "    </tr>\n",
              "  </tbody>\n",
              "</table>\n",
              "<p>3127774 rows × 7 columns</p>\n",
              "</div>\n",
              "    <div class=\"colab-df-buttons\">\n",
              "\n",
              "  <div class=\"colab-df-container\">\n",
              "    <button class=\"colab-df-convert\" onclick=\"convertToInteractive('df-d9381104-f02d-4f5d-9019-f4d9fc19e970')\"\n",
              "            title=\"Convert this dataframe to an interactive table.\"\n",
              "            style=\"display:none;\">\n",
              "\n",
              "  <svg xmlns=\"http://www.w3.org/2000/svg\" height=\"24px\" viewBox=\"0 -960 960 960\">\n",
              "    <path d=\"M120-120v-720h720v720H120Zm60-500h600v-160H180v160Zm220 220h160v-160H400v160Zm0 220h160v-160H400v160ZM180-400h160v-160H180v160Zm440 0h160v-160H620v160ZM180-180h160v-160H180v160Zm440 0h160v-160H620v160Z\"/>\n",
              "  </svg>\n",
              "    </button>\n",
              "\n",
              "  <style>\n",
              "    .colab-df-container {\n",
              "      display:flex;\n",
              "      gap: 12px;\n",
              "    }\n",
              "\n",
              "    .colab-df-convert {\n",
              "      background-color: #E8F0FE;\n",
              "      border: none;\n",
              "      border-radius: 50%;\n",
              "      cursor: pointer;\n",
              "      display: none;\n",
              "      fill: #1967D2;\n",
              "      height: 32px;\n",
              "      padding: 0 0 0 0;\n",
              "      width: 32px;\n",
              "    }\n",
              "\n",
              "    .colab-df-convert:hover {\n",
              "      background-color: #E2EBFA;\n",
              "      box-shadow: 0px 1px 2px rgba(60, 64, 67, 0.3), 0px 1px 3px 1px rgba(60, 64, 67, 0.15);\n",
              "      fill: #174EA6;\n",
              "    }\n",
              "\n",
              "    .colab-df-buttons div {\n",
              "      margin-bottom: 4px;\n",
              "    }\n",
              "\n",
              "    [theme=dark] .colab-df-convert {\n",
              "      background-color: #3B4455;\n",
              "      fill: #D2E3FC;\n",
              "    }\n",
              "\n",
              "    [theme=dark] .colab-df-convert:hover {\n",
              "      background-color: #434B5C;\n",
              "      box-shadow: 0px 1px 3px 1px rgba(0, 0, 0, 0.15);\n",
              "      filter: drop-shadow(0px 1px 2px rgba(0, 0, 0, 0.3));\n",
              "      fill: #FFFFFF;\n",
              "    }\n",
              "  </style>\n",
              "\n",
              "    <script>\n",
              "      const buttonEl =\n",
              "        document.querySelector('#df-d9381104-f02d-4f5d-9019-f4d9fc19e970 button.colab-df-convert');\n",
              "      buttonEl.style.display =\n",
              "        google.colab.kernel.accessAllowed ? 'block' : 'none';\n",
              "\n",
              "      async function convertToInteractive(key) {\n",
              "        const element = document.querySelector('#df-d9381104-f02d-4f5d-9019-f4d9fc19e970');\n",
              "        const dataTable =\n",
              "          await google.colab.kernel.invokeFunction('convertToInteractive',\n",
              "                                                    [key], {});\n",
              "        if (!dataTable) return;\n",
              "\n",
              "        const docLinkHtml = 'Like what you see? Visit the ' +\n",
              "          '<a target=\"_blank\" href=https://colab.research.google.com/notebooks/data_table.ipynb>data table notebook</a>'\n",
              "          + ' to learn more about interactive tables.';\n",
              "        element.innerHTML = '';\n",
              "        dataTable['output_type'] = 'display_data';\n",
              "        await google.colab.output.renderOutput(dataTable, element);\n",
              "        const docLink = document.createElement('div');\n",
              "        docLink.innerHTML = docLinkHtml;\n",
              "        element.appendChild(docLink);\n",
              "      }\n",
              "    </script>\n",
              "  </div>\n",
              "\n",
              "\n",
              "<div id=\"df-b195fd09-ff23-42bb-b90b-58bf43fc82b1\">\n",
              "  <button class=\"colab-df-quickchart\" onclick=\"quickchart('df-b195fd09-ff23-42bb-b90b-58bf43fc82b1')\"\n",
              "            title=\"Suggest charts\"\n",
              "            style=\"display:none;\">\n",
              "\n",
              "<svg xmlns=\"http://www.w3.org/2000/svg\" height=\"24px\"viewBox=\"0 0 24 24\"\n",
              "     width=\"24px\">\n",
              "    <g>\n",
              "        <path d=\"M19 3H5c-1.1 0-2 .9-2 2v14c0 1.1.9 2 2 2h14c1.1 0 2-.9 2-2V5c0-1.1-.9-2-2-2zM9 17H7v-7h2v7zm4 0h-2V7h2v10zm4 0h-2v-4h2v4z\"/>\n",
              "    </g>\n",
              "</svg>\n",
              "  </button>\n",
              "\n",
              "<style>\n",
              "  .colab-df-quickchart {\n",
              "      --bg-color: #E8F0FE;\n",
              "      --fill-color: #1967D2;\n",
              "      --hover-bg-color: #E2EBFA;\n",
              "      --hover-fill-color: #174EA6;\n",
              "      --disabled-fill-color: #AAA;\n",
              "      --disabled-bg-color: #DDD;\n",
              "  }\n",
              "\n",
              "  [theme=dark] .colab-df-quickchart {\n",
              "      --bg-color: #3B4455;\n",
              "      --fill-color: #D2E3FC;\n",
              "      --hover-bg-color: #434B5C;\n",
              "      --hover-fill-color: #FFFFFF;\n",
              "      --disabled-bg-color: #3B4455;\n",
              "      --disabled-fill-color: #666;\n",
              "  }\n",
              "\n",
              "  .colab-df-quickchart {\n",
              "    background-color: var(--bg-color);\n",
              "    border: none;\n",
              "    border-radius: 50%;\n",
              "    cursor: pointer;\n",
              "    display: none;\n",
              "    fill: var(--fill-color);\n",
              "    height: 32px;\n",
              "    padding: 0;\n",
              "    width: 32px;\n",
              "  }\n",
              "\n",
              "  .colab-df-quickchart:hover {\n",
              "    background-color: var(--hover-bg-color);\n",
              "    box-shadow: 0 1px 2px rgba(60, 64, 67, 0.3), 0 1px 3px 1px rgba(60, 64, 67, 0.15);\n",
              "    fill: var(--button-hover-fill-color);\n",
              "  }\n",
              "\n",
              "  .colab-df-quickchart-complete:disabled,\n",
              "  .colab-df-quickchart-complete:disabled:hover {\n",
              "    background-color: var(--disabled-bg-color);\n",
              "    fill: var(--disabled-fill-color);\n",
              "    box-shadow: none;\n",
              "  }\n",
              "\n",
              "  .colab-df-spinner {\n",
              "    border: 2px solid var(--fill-color);\n",
              "    border-color: transparent;\n",
              "    border-bottom-color: var(--fill-color);\n",
              "    animation:\n",
              "      spin 1s steps(1) infinite;\n",
              "  }\n",
              "\n",
              "  @keyframes spin {\n",
              "    0% {\n",
              "      border-color: transparent;\n",
              "      border-bottom-color: var(--fill-color);\n",
              "      border-left-color: var(--fill-color);\n",
              "    }\n",
              "    20% {\n",
              "      border-color: transparent;\n",
              "      border-left-color: var(--fill-color);\n",
              "      border-top-color: var(--fill-color);\n",
              "    }\n",
              "    30% {\n",
              "      border-color: transparent;\n",
              "      border-left-color: var(--fill-color);\n",
              "      border-top-color: var(--fill-color);\n",
              "      border-right-color: var(--fill-color);\n",
              "    }\n",
              "    40% {\n",
              "      border-color: transparent;\n",
              "      border-right-color: var(--fill-color);\n",
              "      border-top-color: var(--fill-color);\n",
              "    }\n",
              "    60% {\n",
              "      border-color: transparent;\n",
              "      border-right-color: var(--fill-color);\n",
              "    }\n",
              "    80% {\n",
              "      border-color: transparent;\n",
              "      border-right-color: var(--fill-color);\n",
              "      border-bottom-color: var(--fill-color);\n",
              "    }\n",
              "    90% {\n",
              "      border-color: transparent;\n",
              "      border-bottom-color: var(--fill-color);\n",
              "    }\n",
              "  }\n",
              "</style>\n",
              "\n",
              "  <script>\n",
              "    async function quickchart(key) {\n",
              "      const quickchartButtonEl =\n",
              "        document.querySelector('#' + key + ' button');\n",
              "      quickchartButtonEl.disabled = true;  // To prevent multiple clicks.\n",
              "      quickchartButtonEl.classList.add('colab-df-spinner');\n",
              "      try {\n",
              "        const charts = await google.colab.kernel.invokeFunction(\n",
              "            'suggestCharts', [key], {});\n",
              "      } catch (error) {\n",
              "        console.error('Error during call to suggestCharts:', error);\n",
              "      }\n",
              "      quickchartButtonEl.classList.remove('colab-df-spinner');\n",
              "      quickchartButtonEl.classList.add('colab-df-quickchart-complete');\n",
              "    }\n",
              "    (() => {\n",
              "      let quickchartButtonEl =\n",
              "        document.querySelector('#df-b195fd09-ff23-42bb-b90b-58bf43fc82b1 button');\n",
              "      quickchartButtonEl.style.display =\n",
              "        google.colab.kernel.accessAllowed ? 'block' : 'none';\n",
              "    })();\n",
              "  </script>\n",
              "</div>\n",
              "\n",
              "  <div id=\"id_eb82bfcf-d0fd-4ab8-ba17-87d0c7152769\">\n",
              "    <style>\n",
              "      .colab-df-generate {\n",
              "        background-color: #E8F0FE;\n",
              "        border: none;\n",
              "        border-radius: 50%;\n",
              "        cursor: pointer;\n",
              "        display: none;\n",
              "        fill: #1967D2;\n",
              "        height: 32px;\n",
              "        padding: 0 0 0 0;\n",
              "        width: 32px;\n",
              "      }\n",
              "\n",
              "      .colab-df-generate:hover {\n",
              "        background-color: #E2EBFA;\n",
              "        box-shadow: 0px 1px 2px rgba(60, 64, 67, 0.3), 0px 1px 3px 1px rgba(60, 64, 67, 0.15);\n",
              "        fill: #174EA6;\n",
              "      }\n",
              "\n",
              "      [theme=dark] .colab-df-generate {\n",
              "        background-color: #3B4455;\n",
              "        fill: #D2E3FC;\n",
              "      }\n",
              "\n",
              "      [theme=dark] .colab-df-generate:hover {\n",
              "        background-color: #434B5C;\n",
              "        box-shadow: 0px 1px 3px 1px rgba(0, 0, 0, 0.15);\n",
              "        filter: drop-shadow(0px 1px 2px rgba(0, 0, 0, 0.3));\n",
              "        fill: #FFFFFF;\n",
              "      }\n",
              "    </style>\n",
              "    <button class=\"colab-df-generate\" onclick=\"generateWithVariable('merged_df')\"\n",
              "            title=\"Generate code using this dataframe.\"\n",
              "            style=\"display:none;\">\n",
              "\n",
              "  <svg xmlns=\"http://www.w3.org/2000/svg\" height=\"24px\"viewBox=\"0 0 24 24\"\n",
              "       width=\"24px\">\n",
              "    <path d=\"M7,19H8.4L18.45,9,17,7.55,7,17.6ZM5,21V16.75L18.45,3.32a2,2,0,0,1,2.83,0l1.4,1.43a1.91,1.91,0,0,1,.58,1.4,1.91,1.91,0,0,1-.58,1.4L9.25,21ZM18.45,9,17,7.55Zm-12,3A5.31,5.31,0,0,0,4.9,8.1,5.31,5.31,0,0,0,1,6.5,5.31,5.31,0,0,0,4.9,4.9,5.31,5.31,0,0,0,6.5,1,5.31,5.31,0,0,0,8.1,4.9,5.31,5.31,0,0,0,12,6.5,5.46,5.46,0,0,0,6.5,12Z\"/>\n",
              "  </svg>\n",
              "    </button>\n",
              "    <script>\n",
              "      (() => {\n",
              "      const buttonEl =\n",
              "        document.querySelector('#id_eb82bfcf-d0fd-4ab8-ba17-87d0c7152769 button.colab-df-generate');\n",
              "      buttonEl.style.display =\n",
              "        google.colab.kernel.accessAllowed ? 'block' : 'none';\n",
              "\n",
              "      buttonEl.onclick = () => {\n",
              "        google.colab.notebook.generateWithVariable('merged_df');\n",
              "      }\n",
              "      })();\n",
              "    </script>\n",
              "  </div>\n",
              "\n",
              "    </div>\n",
              "  </div>\n"
            ],
            "application/vnd.google.colaboratory.intrinsic+json": {
              "type": "dataframe",
              "variable_name": "merged_df"
            }
          },
          "metadata": {},
          "execution_count": 17
        }
      ]
    },
    {
      "cell_type": "code",
      "source": [
        "merged_df.columns"
      ],
      "metadata": {
        "colab": {
          "base_uri": "https://localhost:8080/"
        },
        "id": "59kjDR9tEBjg",
        "outputId": "759c9611-d497-4741-afa1-d7a81d889499"
      },
      "execution_count": null,
      "outputs": [
        {
          "output_type": "execute_result",
          "data": {
            "text/plain": [
              "Index(['name', 'productID', 'image', 'price', 'description', 'userID',\n",
              "       'overall'],\n",
              "      dtype='object')"
            ]
          },
          "metadata": {},
          "execution_count": 18
        }
      ]
    },
    {
      "cell_type": "code",
      "source": [
        "merged_df['overall']"
      ],
      "metadata": {
        "colab": {
          "base_uri": "https://localhost:8080/"
        },
        "id": "lZ8jmBbwEHCR",
        "outputId": "a78b58a0-4300-451e-8876-1eb73f1c761a"
      },
      "execution_count": null,
      "outputs": [
        {
          "output_type": "execute_result",
          "data": {
            "text/plain": [
              "0          5.0\n",
              "1          5.0\n",
              "2          5.0\n",
              "3          5.0\n",
              "4          5.0\n",
              "          ... \n",
              "3127769    5.0\n",
              "3127770    5.0\n",
              "3127771    5.0\n",
              "3127772    5.0\n",
              "3127773    5.0\n",
              "Name: overall, Length: 3127774, dtype: float64"
            ]
          },
          "metadata": {},
          "execution_count": 19
        }
      ]
    },
    {
      "cell_type": "code",
      "source": [
        "merged_df"
      ],
      "metadata": {
        "id": "kjnO609l_q8k",
        "colab": {
          "base_uri": "https://localhost:8080/",
          "height": 510
        },
        "outputId": "11f4506b-47ca-4923-dfc7-1450c1a2941c"
      },
      "execution_count": null,
      "outputs": [
        {
          "output_type": "execute_result",
          "data": {
            "text/plain": [
              "                                                      name   productID image  \\\n",
              "0        Steve Green: Hide 'em in Your Heart: 13 Bible ...  0001526863    []   \n",
              "1        Steve Green: Hide 'em in Your Heart: 13 Bible ...  0001526863    []   \n",
              "2        Steve Green: Hide 'em in Your Heart: 13 Bible ...  0001526863    []   \n",
              "3        Steve Green: Hide 'em in Your Heart: 13 Bible ...  0001526863    []   \n",
              "4        Steve Green: Hide 'em in Your Heart: 13 Bible ...  0001526863    []   \n",
              "...                                                    ...         ...   ...   \n",
              "3127769                            Hard Hat Harry's 6-Pack  B0006Q944Q    []   \n",
              "3127770                            Hard Hat Harry's 6-Pack  B0006Q944Q    []   \n",
              "3127771                            Hard Hat Harry's 6-Pack  B0006Q944Q    []   \n",
              "3127772                            Hard Hat Harry's 6-Pack  B0006Q944Q    []   \n",
              "3127773                            Hard Hat Harry's 6-Pack  B0006Q944Q    []   \n",
              "\n",
              "        price                                        description  \\\n",
              "0              [Steve Green: Hide 'em in Your Heart: 13 Bible...   \n",
              "1              [Steve Green: Hide 'em in Your Heart: 13 Bible...   \n",
              "2              [Steve Green: Hide 'em in Your Heart: 13 Bible...   \n",
              "3              [Steve Green: Hide 'em in Your Heart: 13 Bible...   \n",
              "4              [Steve Green: Hide 'em in Your Heart: 13 Bible...   \n",
              "...       ...                                                ...   \n",
              "3127769                                                       []   \n",
              "3127770                                                       []   \n",
              "3127771                                                       []   \n",
              "3127772                                                       []   \n",
              "3127773                                                       []   \n",
              "\n",
              "                 userID  overall  \n",
              "0         AT4UZKGPQ719W      5.0  \n",
              "1        A2DZ09ET7S7ISG      5.0  \n",
              "2        A238RV4L8SVTSF      5.0  \n",
              "3        A3DU3JGKKYJ6Q0      5.0  \n",
              "4         ADJY91Y3KZMYG      5.0  \n",
              "...                 ...      ...  \n",
              "3127769  A3OBW7ZP7B1Y1N      5.0  \n",
              "3127770  A22KEVEVFUVB13      5.0  \n",
              "3127771  A3VXG8GCQ11HP9      5.0  \n",
              "3127772  A203D6S0DDOAAA      5.0  \n",
              "3127773   AB241DGH96STG      5.0  \n",
              "\n",
              "[3127774 rows x 7 columns]"
            ],
            "text/html": [
              "\n",
              "  <div id=\"df-df1c8705-d33f-4b34-bb87-206ef8c4af0f\" class=\"colab-df-container\">\n",
              "    <div>\n",
              "<style scoped>\n",
              "    .dataframe tbody tr th:only-of-type {\n",
              "        vertical-align: middle;\n",
              "    }\n",
              "\n",
              "    .dataframe tbody tr th {\n",
              "        vertical-align: top;\n",
              "    }\n",
              "\n",
              "    .dataframe thead th {\n",
              "        text-align: right;\n",
              "    }\n",
              "</style>\n",
              "<table border=\"1\" class=\"dataframe\">\n",
              "  <thead>\n",
              "    <tr style=\"text-align: right;\">\n",
              "      <th></th>\n",
              "      <th>name</th>\n",
              "      <th>productID</th>\n",
              "      <th>image</th>\n",
              "      <th>price</th>\n",
              "      <th>description</th>\n",
              "      <th>userID</th>\n",
              "      <th>overall</th>\n",
              "    </tr>\n",
              "  </thead>\n",
              "  <tbody>\n",
              "    <tr>\n",
              "      <th>0</th>\n",
              "      <td>Steve Green: Hide 'em in Your Heart: 13 Bible ...</td>\n",
              "      <td>0001526863</td>\n",
              "      <td>[]</td>\n",
              "      <td></td>\n",
              "      <td>[Steve Green: Hide 'em in Your Heart: 13 Bible...</td>\n",
              "      <td>AT4UZKGPQ719W</td>\n",
              "      <td>5.0</td>\n",
              "    </tr>\n",
              "    <tr>\n",
              "      <th>1</th>\n",
              "      <td>Steve Green: Hide 'em in Your Heart: 13 Bible ...</td>\n",
              "      <td>0001526863</td>\n",
              "      <td>[]</td>\n",
              "      <td></td>\n",
              "      <td>[Steve Green: Hide 'em in Your Heart: 13 Bible...</td>\n",
              "      <td>A2DZ09ET7S7ISG</td>\n",
              "      <td>5.0</td>\n",
              "    </tr>\n",
              "    <tr>\n",
              "      <th>2</th>\n",
              "      <td>Steve Green: Hide 'em in Your Heart: 13 Bible ...</td>\n",
              "      <td>0001526863</td>\n",
              "      <td>[]</td>\n",
              "      <td></td>\n",
              "      <td>[Steve Green: Hide 'em in Your Heart: 13 Bible...</td>\n",
              "      <td>A238RV4L8SVTSF</td>\n",
              "      <td>5.0</td>\n",
              "    </tr>\n",
              "    <tr>\n",
              "      <th>3</th>\n",
              "      <td>Steve Green: Hide 'em in Your Heart: 13 Bible ...</td>\n",
              "      <td>0001526863</td>\n",
              "      <td>[]</td>\n",
              "      <td></td>\n",
              "      <td>[Steve Green: Hide 'em in Your Heart: 13 Bible...</td>\n",
              "      <td>A3DU3JGKKYJ6Q0</td>\n",
              "      <td>5.0</td>\n",
              "    </tr>\n",
              "    <tr>\n",
              "      <th>4</th>\n",
              "      <td>Steve Green: Hide 'em in Your Heart: 13 Bible ...</td>\n",
              "      <td>0001526863</td>\n",
              "      <td>[]</td>\n",
              "      <td></td>\n",
              "      <td>[Steve Green: Hide 'em in Your Heart: 13 Bible...</td>\n",
              "      <td>ADJY91Y3KZMYG</td>\n",
              "      <td>5.0</td>\n",
              "    </tr>\n",
              "    <tr>\n",
              "      <th>...</th>\n",
              "      <td>...</td>\n",
              "      <td>...</td>\n",
              "      <td>...</td>\n",
              "      <td>...</td>\n",
              "      <td>...</td>\n",
              "      <td>...</td>\n",
              "      <td>...</td>\n",
              "    </tr>\n",
              "    <tr>\n",
              "      <th>3127769</th>\n",
              "      <td>Hard Hat Harry's 6-Pack</td>\n",
              "      <td>B0006Q944Q</td>\n",
              "      <td>[]</td>\n",
              "      <td></td>\n",
              "      <td>[]</td>\n",
              "      <td>A3OBW7ZP7B1Y1N</td>\n",
              "      <td>5.0</td>\n",
              "    </tr>\n",
              "    <tr>\n",
              "      <th>3127770</th>\n",
              "      <td>Hard Hat Harry's 6-Pack</td>\n",
              "      <td>B0006Q944Q</td>\n",
              "      <td>[]</td>\n",
              "      <td></td>\n",
              "      <td>[]</td>\n",
              "      <td>A22KEVEVFUVB13</td>\n",
              "      <td>5.0</td>\n",
              "    </tr>\n",
              "    <tr>\n",
              "      <th>3127771</th>\n",
              "      <td>Hard Hat Harry's 6-Pack</td>\n",
              "      <td>B0006Q944Q</td>\n",
              "      <td>[]</td>\n",
              "      <td></td>\n",
              "      <td>[]</td>\n",
              "      <td>A3VXG8GCQ11HP9</td>\n",
              "      <td>5.0</td>\n",
              "    </tr>\n",
              "    <tr>\n",
              "      <th>3127772</th>\n",
              "      <td>Hard Hat Harry's 6-Pack</td>\n",
              "      <td>B0006Q944Q</td>\n",
              "      <td>[]</td>\n",
              "      <td></td>\n",
              "      <td>[]</td>\n",
              "      <td>A203D6S0DDOAAA</td>\n",
              "      <td>5.0</td>\n",
              "    </tr>\n",
              "    <tr>\n",
              "      <th>3127773</th>\n",
              "      <td>Hard Hat Harry's 6-Pack</td>\n",
              "      <td>B0006Q944Q</td>\n",
              "      <td>[]</td>\n",
              "      <td></td>\n",
              "      <td>[]</td>\n",
              "      <td>AB241DGH96STG</td>\n",
              "      <td>5.0</td>\n",
              "    </tr>\n",
              "  </tbody>\n",
              "</table>\n",
              "<p>3127774 rows × 7 columns</p>\n",
              "</div>\n",
              "    <div class=\"colab-df-buttons\">\n",
              "\n",
              "  <div class=\"colab-df-container\">\n",
              "    <button class=\"colab-df-convert\" onclick=\"convertToInteractive('df-df1c8705-d33f-4b34-bb87-206ef8c4af0f')\"\n",
              "            title=\"Convert this dataframe to an interactive table.\"\n",
              "            style=\"display:none;\">\n",
              "\n",
              "  <svg xmlns=\"http://www.w3.org/2000/svg\" height=\"24px\" viewBox=\"0 -960 960 960\">\n",
              "    <path d=\"M120-120v-720h720v720H120Zm60-500h600v-160H180v160Zm220 220h160v-160H400v160Zm0 220h160v-160H400v160ZM180-400h160v-160H180v160Zm440 0h160v-160H620v160ZM180-180h160v-160H180v160Zm440 0h160v-160H620v160Z\"/>\n",
              "  </svg>\n",
              "    </button>\n",
              "\n",
              "  <style>\n",
              "    .colab-df-container {\n",
              "      display:flex;\n",
              "      gap: 12px;\n",
              "    }\n",
              "\n",
              "    .colab-df-convert {\n",
              "      background-color: #E8F0FE;\n",
              "      border: none;\n",
              "      border-radius: 50%;\n",
              "      cursor: pointer;\n",
              "      display: none;\n",
              "      fill: #1967D2;\n",
              "      height: 32px;\n",
              "      padding: 0 0 0 0;\n",
              "      width: 32px;\n",
              "    }\n",
              "\n",
              "    .colab-df-convert:hover {\n",
              "      background-color: #E2EBFA;\n",
              "      box-shadow: 0px 1px 2px rgba(60, 64, 67, 0.3), 0px 1px 3px 1px rgba(60, 64, 67, 0.15);\n",
              "      fill: #174EA6;\n",
              "    }\n",
              "\n",
              "    .colab-df-buttons div {\n",
              "      margin-bottom: 4px;\n",
              "    }\n",
              "\n",
              "    [theme=dark] .colab-df-convert {\n",
              "      background-color: #3B4455;\n",
              "      fill: #D2E3FC;\n",
              "    }\n",
              "\n",
              "    [theme=dark] .colab-df-convert:hover {\n",
              "      background-color: #434B5C;\n",
              "      box-shadow: 0px 1px 3px 1px rgba(0, 0, 0, 0.15);\n",
              "      filter: drop-shadow(0px 1px 2px rgba(0, 0, 0, 0.3));\n",
              "      fill: #FFFFFF;\n",
              "    }\n",
              "  </style>\n",
              "\n",
              "    <script>\n",
              "      const buttonEl =\n",
              "        document.querySelector('#df-df1c8705-d33f-4b34-bb87-206ef8c4af0f button.colab-df-convert');\n",
              "      buttonEl.style.display =\n",
              "        google.colab.kernel.accessAllowed ? 'block' : 'none';\n",
              "\n",
              "      async function convertToInteractive(key) {\n",
              "        const element = document.querySelector('#df-df1c8705-d33f-4b34-bb87-206ef8c4af0f');\n",
              "        const dataTable =\n",
              "          await google.colab.kernel.invokeFunction('convertToInteractive',\n",
              "                                                    [key], {});\n",
              "        if (!dataTable) return;\n",
              "\n",
              "        const docLinkHtml = 'Like what you see? Visit the ' +\n",
              "          '<a target=\"_blank\" href=https://colab.research.google.com/notebooks/data_table.ipynb>data table notebook</a>'\n",
              "          + ' to learn more about interactive tables.';\n",
              "        element.innerHTML = '';\n",
              "        dataTable['output_type'] = 'display_data';\n",
              "        await google.colab.output.renderOutput(dataTable, element);\n",
              "        const docLink = document.createElement('div');\n",
              "        docLink.innerHTML = docLinkHtml;\n",
              "        element.appendChild(docLink);\n",
              "      }\n",
              "    </script>\n",
              "  </div>\n",
              "\n",
              "\n",
              "<div id=\"df-ca8d8852-8b02-4b9c-bcc9-55e9a8ae0d48\">\n",
              "  <button class=\"colab-df-quickchart\" onclick=\"quickchart('df-ca8d8852-8b02-4b9c-bcc9-55e9a8ae0d48')\"\n",
              "            title=\"Suggest charts\"\n",
              "            style=\"display:none;\">\n",
              "\n",
              "<svg xmlns=\"http://www.w3.org/2000/svg\" height=\"24px\"viewBox=\"0 0 24 24\"\n",
              "     width=\"24px\">\n",
              "    <g>\n",
              "        <path d=\"M19 3H5c-1.1 0-2 .9-2 2v14c0 1.1.9 2 2 2h14c1.1 0 2-.9 2-2V5c0-1.1-.9-2-2-2zM9 17H7v-7h2v7zm4 0h-2V7h2v10zm4 0h-2v-4h2v4z\"/>\n",
              "    </g>\n",
              "</svg>\n",
              "  </button>\n",
              "\n",
              "<style>\n",
              "  .colab-df-quickchart {\n",
              "      --bg-color: #E8F0FE;\n",
              "      --fill-color: #1967D2;\n",
              "      --hover-bg-color: #E2EBFA;\n",
              "      --hover-fill-color: #174EA6;\n",
              "      --disabled-fill-color: #AAA;\n",
              "      --disabled-bg-color: #DDD;\n",
              "  }\n",
              "\n",
              "  [theme=dark] .colab-df-quickchart {\n",
              "      --bg-color: #3B4455;\n",
              "      --fill-color: #D2E3FC;\n",
              "      --hover-bg-color: #434B5C;\n",
              "      --hover-fill-color: #FFFFFF;\n",
              "      --disabled-bg-color: #3B4455;\n",
              "      --disabled-fill-color: #666;\n",
              "  }\n",
              "\n",
              "  .colab-df-quickchart {\n",
              "    background-color: var(--bg-color);\n",
              "    border: none;\n",
              "    border-radius: 50%;\n",
              "    cursor: pointer;\n",
              "    display: none;\n",
              "    fill: var(--fill-color);\n",
              "    height: 32px;\n",
              "    padding: 0;\n",
              "    width: 32px;\n",
              "  }\n",
              "\n",
              "  .colab-df-quickchart:hover {\n",
              "    background-color: var(--hover-bg-color);\n",
              "    box-shadow: 0 1px 2px rgba(60, 64, 67, 0.3), 0 1px 3px 1px rgba(60, 64, 67, 0.15);\n",
              "    fill: var(--button-hover-fill-color);\n",
              "  }\n",
              "\n",
              "  .colab-df-quickchart-complete:disabled,\n",
              "  .colab-df-quickchart-complete:disabled:hover {\n",
              "    background-color: var(--disabled-bg-color);\n",
              "    fill: var(--disabled-fill-color);\n",
              "    box-shadow: none;\n",
              "  }\n",
              "\n",
              "  .colab-df-spinner {\n",
              "    border: 2px solid var(--fill-color);\n",
              "    border-color: transparent;\n",
              "    border-bottom-color: var(--fill-color);\n",
              "    animation:\n",
              "      spin 1s steps(1) infinite;\n",
              "  }\n",
              "\n",
              "  @keyframes spin {\n",
              "    0% {\n",
              "      border-color: transparent;\n",
              "      border-bottom-color: var(--fill-color);\n",
              "      border-left-color: var(--fill-color);\n",
              "    }\n",
              "    20% {\n",
              "      border-color: transparent;\n",
              "      border-left-color: var(--fill-color);\n",
              "      border-top-color: var(--fill-color);\n",
              "    }\n",
              "    30% {\n",
              "      border-color: transparent;\n",
              "      border-left-color: var(--fill-color);\n",
              "      border-top-color: var(--fill-color);\n",
              "      border-right-color: var(--fill-color);\n",
              "    }\n",
              "    40% {\n",
              "      border-color: transparent;\n",
              "      border-right-color: var(--fill-color);\n",
              "      border-top-color: var(--fill-color);\n",
              "    }\n",
              "    60% {\n",
              "      border-color: transparent;\n",
              "      border-right-color: var(--fill-color);\n",
              "    }\n",
              "    80% {\n",
              "      border-color: transparent;\n",
              "      border-right-color: var(--fill-color);\n",
              "      border-bottom-color: var(--fill-color);\n",
              "    }\n",
              "    90% {\n",
              "      border-color: transparent;\n",
              "      border-bottom-color: var(--fill-color);\n",
              "    }\n",
              "  }\n",
              "</style>\n",
              "\n",
              "  <script>\n",
              "    async function quickchart(key) {\n",
              "      const quickchartButtonEl =\n",
              "        document.querySelector('#' + key + ' button');\n",
              "      quickchartButtonEl.disabled = true;  // To prevent multiple clicks.\n",
              "      quickchartButtonEl.classList.add('colab-df-spinner');\n",
              "      try {\n",
              "        const charts = await google.colab.kernel.invokeFunction(\n",
              "            'suggestCharts', [key], {});\n",
              "      } catch (error) {\n",
              "        console.error('Error during call to suggestCharts:', error);\n",
              "      }\n",
              "      quickchartButtonEl.classList.remove('colab-df-spinner');\n",
              "      quickchartButtonEl.classList.add('colab-df-quickchart-complete');\n",
              "    }\n",
              "    (() => {\n",
              "      let quickchartButtonEl =\n",
              "        document.querySelector('#df-ca8d8852-8b02-4b9c-bcc9-55e9a8ae0d48 button');\n",
              "      quickchartButtonEl.style.display =\n",
              "        google.colab.kernel.accessAllowed ? 'block' : 'none';\n",
              "    })();\n",
              "  </script>\n",
              "</div>\n",
              "\n",
              "  <div id=\"id_af684b35-340c-49f8-9280-3b7510cafbf5\">\n",
              "    <style>\n",
              "      .colab-df-generate {\n",
              "        background-color: #E8F0FE;\n",
              "        border: none;\n",
              "        border-radius: 50%;\n",
              "        cursor: pointer;\n",
              "        display: none;\n",
              "        fill: #1967D2;\n",
              "        height: 32px;\n",
              "        padding: 0 0 0 0;\n",
              "        width: 32px;\n",
              "      }\n",
              "\n",
              "      .colab-df-generate:hover {\n",
              "        background-color: #E2EBFA;\n",
              "        box-shadow: 0px 1px 2px rgba(60, 64, 67, 0.3), 0px 1px 3px 1px rgba(60, 64, 67, 0.15);\n",
              "        fill: #174EA6;\n",
              "      }\n",
              "\n",
              "      [theme=dark] .colab-df-generate {\n",
              "        background-color: #3B4455;\n",
              "        fill: #D2E3FC;\n",
              "      }\n",
              "\n",
              "      [theme=dark] .colab-df-generate:hover {\n",
              "        background-color: #434B5C;\n",
              "        box-shadow: 0px 1px 3px 1px rgba(0, 0, 0, 0.15);\n",
              "        filter: drop-shadow(0px 1px 2px rgba(0, 0, 0, 0.3));\n",
              "        fill: #FFFFFF;\n",
              "      }\n",
              "    </style>\n",
              "    <button class=\"colab-df-generate\" onclick=\"generateWithVariable('merged_df')\"\n",
              "            title=\"Generate code using this dataframe.\"\n",
              "            style=\"display:none;\">\n",
              "\n",
              "  <svg xmlns=\"http://www.w3.org/2000/svg\" height=\"24px\"viewBox=\"0 0 24 24\"\n",
              "       width=\"24px\">\n",
              "    <path d=\"M7,19H8.4L18.45,9,17,7.55,7,17.6ZM5,21V16.75L18.45,3.32a2,2,0,0,1,2.83,0l1.4,1.43a1.91,1.91,0,0,1,.58,1.4,1.91,1.91,0,0,1-.58,1.4L9.25,21ZM18.45,9,17,7.55Zm-12,3A5.31,5.31,0,0,0,4.9,8.1,5.31,5.31,0,0,0,1,6.5,5.31,5.31,0,0,0,4.9,4.9,5.31,5.31,0,0,0,6.5,1,5.31,5.31,0,0,0,8.1,4.9,5.31,5.31,0,0,0,12,6.5,5.46,5.46,0,0,0,6.5,12Z\"/>\n",
              "  </svg>\n",
              "    </button>\n",
              "    <script>\n",
              "      (() => {\n",
              "      const buttonEl =\n",
              "        document.querySelector('#id_af684b35-340c-49f8-9280-3b7510cafbf5 button.colab-df-generate');\n",
              "      buttonEl.style.display =\n",
              "        google.colab.kernel.accessAllowed ? 'block' : 'none';\n",
              "\n",
              "      buttonEl.onclick = () => {\n",
              "        google.colab.notebook.generateWithVariable('merged_df');\n",
              "      }\n",
              "      })();\n",
              "    </script>\n",
              "  </div>\n",
              "\n",
              "    </div>\n",
              "  </div>\n"
            ],
            "application/vnd.google.colaboratory.intrinsic+json": {
              "type": "dataframe",
              "variable_name": "merged_df"
            }
          },
          "metadata": {},
          "execution_count": 20
        }
      ]
    },
    {
      "cell_type": "code",
      "source": [
        "merged_df.dropna(subset=['overall'], inplace=True)"
      ],
      "metadata": {
        "id": "UlVQv8pOAA_v"
      },
      "execution_count": null,
      "outputs": []
    },
    {
      "cell_type": "code",
      "source": [
        "merged_df"
      ],
      "metadata": {
        "id": "T77enoGIAPrN",
        "colab": {
          "base_uri": "https://localhost:8080/",
          "height": 510
        },
        "outputId": "4cffe01e-1114-4174-a9b3-a7f89c3228a0"
      },
      "execution_count": null,
      "outputs": [
        {
          "output_type": "execute_result",
          "data": {
            "text/plain": [
              "                                                      name   productID image  \\\n",
              "0        Steve Green: Hide 'em in Your Heart: 13 Bible ...  0001526863    []   \n",
              "1        Steve Green: Hide 'em in Your Heart: 13 Bible ...  0001526863    []   \n",
              "2        Steve Green: Hide 'em in Your Heart: 13 Bible ...  0001526863    []   \n",
              "3        Steve Green: Hide 'em in Your Heart: 13 Bible ...  0001526863    []   \n",
              "4        Steve Green: Hide 'em in Your Heart: 13 Bible ...  0001526863    []   \n",
              "...                                                    ...         ...   ...   \n",
              "3127769                            Hard Hat Harry's 6-Pack  B0006Q944Q    []   \n",
              "3127770                            Hard Hat Harry's 6-Pack  B0006Q944Q    []   \n",
              "3127771                            Hard Hat Harry's 6-Pack  B0006Q944Q    []   \n",
              "3127772                            Hard Hat Harry's 6-Pack  B0006Q944Q    []   \n",
              "3127773                            Hard Hat Harry's 6-Pack  B0006Q944Q    []   \n",
              "\n",
              "        price                                        description  \\\n",
              "0              [Steve Green: Hide 'em in Your Heart: 13 Bible...   \n",
              "1              [Steve Green: Hide 'em in Your Heart: 13 Bible...   \n",
              "2              [Steve Green: Hide 'em in Your Heart: 13 Bible...   \n",
              "3              [Steve Green: Hide 'em in Your Heart: 13 Bible...   \n",
              "4              [Steve Green: Hide 'em in Your Heart: 13 Bible...   \n",
              "...       ...                                                ...   \n",
              "3127769                                                       []   \n",
              "3127770                                                       []   \n",
              "3127771                                                       []   \n",
              "3127772                                                       []   \n",
              "3127773                                                       []   \n",
              "\n",
              "                 userID  overall  \n",
              "0         AT4UZKGPQ719W      5.0  \n",
              "1        A2DZ09ET7S7ISG      5.0  \n",
              "2        A238RV4L8SVTSF      5.0  \n",
              "3        A3DU3JGKKYJ6Q0      5.0  \n",
              "4         ADJY91Y3KZMYG      5.0  \n",
              "...                 ...      ...  \n",
              "3127769  A3OBW7ZP7B1Y1N      5.0  \n",
              "3127770  A22KEVEVFUVB13      5.0  \n",
              "3127771  A3VXG8GCQ11HP9      5.0  \n",
              "3127772  A203D6S0DDOAAA      5.0  \n",
              "3127773   AB241DGH96STG      5.0  \n",
              "\n",
              "[3127774 rows x 7 columns]"
            ],
            "text/html": [
              "\n",
              "  <div id=\"df-c63c076f-8dff-4a08-ae23-1da59bb92bed\" class=\"colab-df-container\">\n",
              "    <div>\n",
              "<style scoped>\n",
              "    .dataframe tbody tr th:only-of-type {\n",
              "        vertical-align: middle;\n",
              "    }\n",
              "\n",
              "    .dataframe tbody tr th {\n",
              "        vertical-align: top;\n",
              "    }\n",
              "\n",
              "    .dataframe thead th {\n",
              "        text-align: right;\n",
              "    }\n",
              "</style>\n",
              "<table border=\"1\" class=\"dataframe\">\n",
              "  <thead>\n",
              "    <tr style=\"text-align: right;\">\n",
              "      <th></th>\n",
              "      <th>name</th>\n",
              "      <th>productID</th>\n",
              "      <th>image</th>\n",
              "      <th>price</th>\n",
              "      <th>description</th>\n",
              "      <th>userID</th>\n",
              "      <th>overall</th>\n",
              "    </tr>\n",
              "  </thead>\n",
              "  <tbody>\n",
              "    <tr>\n",
              "      <th>0</th>\n",
              "      <td>Steve Green: Hide 'em in Your Heart: 13 Bible ...</td>\n",
              "      <td>0001526863</td>\n",
              "      <td>[]</td>\n",
              "      <td></td>\n",
              "      <td>[Steve Green: Hide 'em in Your Heart: 13 Bible...</td>\n",
              "      <td>AT4UZKGPQ719W</td>\n",
              "      <td>5.0</td>\n",
              "    </tr>\n",
              "    <tr>\n",
              "      <th>1</th>\n",
              "      <td>Steve Green: Hide 'em in Your Heart: 13 Bible ...</td>\n",
              "      <td>0001526863</td>\n",
              "      <td>[]</td>\n",
              "      <td></td>\n",
              "      <td>[Steve Green: Hide 'em in Your Heart: 13 Bible...</td>\n",
              "      <td>A2DZ09ET7S7ISG</td>\n",
              "      <td>5.0</td>\n",
              "    </tr>\n",
              "    <tr>\n",
              "      <th>2</th>\n",
              "      <td>Steve Green: Hide 'em in Your Heart: 13 Bible ...</td>\n",
              "      <td>0001526863</td>\n",
              "      <td>[]</td>\n",
              "      <td></td>\n",
              "      <td>[Steve Green: Hide 'em in Your Heart: 13 Bible...</td>\n",
              "      <td>A238RV4L8SVTSF</td>\n",
              "      <td>5.0</td>\n",
              "    </tr>\n",
              "    <tr>\n",
              "      <th>3</th>\n",
              "      <td>Steve Green: Hide 'em in Your Heart: 13 Bible ...</td>\n",
              "      <td>0001526863</td>\n",
              "      <td>[]</td>\n",
              "      <td></td>\n",
              "      <td>[Steve Green: Hide 'em in Your Heart: 13 Bible...</td>\n",
              "      <td>A3DU3JGKKYJ6Q0</td>\n",
              "      <td>5.0</td>\n",
              "    </tr>\n",
              "    <tr>\n",
              "      <th>4</th>\n",
              "      <td>Steve Green: Hide 'em in Your Heart: 13 Bible ...</td>\n",
              "      <td>0001526863</td>\n",
              "      <td>[]</td>\n",
              "      <td></td>\n",
              "      <td>[Steve Green: Hide 'em in Your Heart: 13 Bible...</td>\n",
              "      <td>ADJY91Y3KZMYG</td>\n",
              "      <td>5.0</td>\n",
              "    </tr>\n",
              "    <tr>\n",
              "      <th>...</th>\n",
              "      <td>...</td>\n",
              "      <td>...</td>\n",
              "      <td>...</td>\n",
              "      <td>...</td>\n",
              "      <td>...</td>\n",
              "      <td>...</td>\n",
              "      <td>...</td>\n",
              "    </tr>\n",
              "    <tr>\n",
              "      <th>3127769</th>\n",
              "      <td>Hard Hat Harry's 6-Pack</td>\n",
              "      <td>B0006Q944Q</td>\n",
              "      <td>[]</td>\n",
              "      <td></td>\n",
              "      <td>[]</td>\n",
              "      <td>A3OBW7ZP7B1Y1N</td>\n",
              "      <td>5.0</td>\n",
              "    </tr>\n",
              "    <tr>\n",
              "      <th>3127770</th>\n",
              "      <td>Hard Hat Harry's 6-Pack</td>\n",
              "      <td>B0006Q944Q</td>\n",
              "      <td>[]</td>\n",
              "      <td></td>\n",
              "      <td>[]</td>\n",
              "      <td>A22KEVEVFUVB13</td>\n",
              "      <td>5.0</td>\n",
              "    </tr>\n",
              "    <tr>\n",
              "      <th>3127771</th>\n",
              "      <td>Hard Hat Harry's 6-Pack</td>\n",
              "      <td>B0006Q944Q</td>\n",
              "      <td>[]</td>\n",
              "      <td></td>\n",
              "      <td>[]</td>\n",
              "      <td>A3VXG8GCQ11HP9</td>\n",
              "      <td>5.0</td>\n",
              "    </tr>\n",
              "    <tr>\n",
              "      <th>3127772</th>\n",
              "      <td>Hard Hat Harry's 6-Pack</td>\n",
              "      <td>B0006Q944Q</td>\n",
              "      <td>[]</td>\n",
              "      <td></td>\n",
              "      <td>[]</td>\n",
              "      <td>A203D6S0DDOAAA</td>\n",
              "      <td>5.0</td>\n",
              "    </tr>\n",
              "    <tr>\n",
              "      <th>3127773</th>\n",
              "      <td>Hard Hat Harry's 6-Pack</td>\n",
              "      <td>B0006Q944Q</td>\n",
              "      <td>[]</td>\n",
              "      <td></td>\n",
              "      <td>[]</td>\n",
              "      <td>AB241DGH96STG</td>\n",
              "      <td>5.0</td>\n",
              "    </tr>\n",
              "  </tbody>\n",
              "</table>\n",
              "<p>3127774 rows × 7 columns</p>\n",
              "</div>\n",
              "    <div class=\"colab-df-buttons\">\n",
              "\n",
              "  <div class=\"colab-df-container\">\n",
              "    <button class=\"colab-df-convert\" onclick=\"convertToInteractive('df-c63c076f-8dff-4a08-ae23-1da59bb92bed')\"\n",
              "            title=\"Convert this dataframe to an interactive table.\"\n",
              "            style=\"display:none;\">\n",
              "\n",
              "  <svg xmlns=\"http://www.w3.org/2000/svg\" height=\"24px\" viewBox=\"0 -960 960 960\">\n",
              "    <path d=\"M120-120v-720h720v720H120Zm60-500h600v-160H180v160Zm220 220h160v-160H400v160Zm0 220h160v-160H400v160ZM180-400h160v-160H180v160Zm440 0h160v-160H620v160ZM180-180h160v-160H180v160Zm440 0h160v-160H620v160Z\"/>\n",
              "  </svg>\n",
              "    </button>\n",
              "\n",
              "  <style>\n",
              "    .colab-df-container {\n",
              "      display:flex;\n",
              "      gap: 12px;\n",
              "    }\n",
              "\n",
              "    .colab-df-convert {\n",
              "      background-color: #E8F0FE;\n",
              "      border: none;\n",
              "      border-radius: 50%;\n",
              "      cursor: pointer;\n",
              "      display: none;\n",
              "      fill: #1967D2;\n",
              "      height: 32px;\n",
              "      padding: 0 0 0 0;\n",
              "      width: 32px;\n",
              "    }\n",
              "\n",
              "    .colab-df-convert:hover {\n",
              "      background-color: #E2EBFA;\n",
              "      box-shadow: 0px 1px 2px rgba(60, 64, 67, 0.3), 0px 1px 3px 1px rgba(60, 64, 67, 0.15);\n",
              "      fill: #174EA6;\n",
              "    }\n",
              "\n",
              "    .colab-df-buttons div {\n",
              "      margin-bottom: 4px;\n",
              "    }\n",
              "\n",
              "    [theme=dark] .colab-df-convert {\n",
              "      background-color: #3B4455;\n",
              "      fill: #D2E3FC;\n",
              "    }\n",
              "\n",
              "    [theme=dark] .colab-df-convert:hover {\n",
              "      background-color: #434B5C;\n",
              "      box-shadow: 0px 1px 3px 1px rgba(0, 0, 0, 0.15);\n",
              "      filter: drop-shadow(0px 1px 2px rgba(0, 0, 0, 0.3));\n",
              "      fill: #FFFFFF;\n",
              "    }\n",
              "  </style>\n",
              "\n",
              "    <script>\n",
              "      const buttonEl =\n",
              "        document.querySelector('#df-c63c076f-8dff-4a08-ae23-1da59bb92bed button.colab-df-convert');\n",
              "      buttonEl.style.display =\n",
              "        google.colab.kernel.accessAllowed ? 'block' : 'none';\n",
              "\n",
              "      async function convertToInteractive(key) {\n",
              "        const element = document.querySelector('#df-c63c076f-8dff-4a08-ae23-1da59bb92bed');\n",
              "        const dataTable =\n",
              "          await google.colab.kernel.invokeFunction('convertToInteractive',\n",
              "                                                    [key], {});\n",
              "        if (!dataTable) return;\n",
              "\n",
              "        const docLinkHtml = 'Like what you see? Visit the ' +\n",
              "          '<a target=\"_blank\" href=https://colab.research.google.com/notebooks/data_table.ipynb>data table notebook</a>'\n",
              "          + ' to learn more about interactive tables.';\n",
              "        element.innerHTML = '';\n",
              "        dataTable['output_type'] = 'display_data';\n",
              "        await google.colab.output.renderOutput(dataTable, element);\n",
              "        const docLink = document.createElement('div');\n",
              "        docLink.innerHTML = docLinkHtml;\n",
              "        element.appendChild(docLink);\n",
              "      }\n",
              "    </script>\n",
              "  </div>\n",
              "\n",
              "\n",
              "<div id=\"df-9d30033d-bb0a-4b7b-8cc5-1a9ecdaa0765\">\n",
              "  <button class=\"colab-df-quickchart\" onclick=\"quickchart('df-9d30033d-bb0a-4b7b-8cc5-1a9ecdaa0765')\"\n",
              "            title=\"Suggest charts\"\n",
              "            style=\"display:none;\">\n",
              "\n",
              "<svg xmlns=\"http://www.w3.org/2000/svg\" height=\"24px\"viewBox=\"0 0 24 24\"\n",
              "     width=\"24px\">\n",
              "    <g>\n",
              "        <path d=\"M19 3H5c-1.1 0-2 .9-2 2v14c0 1.1.9 2 2 2h14c1.1 0 2-.9 2-2V5c0-1.1-.9-2-2-2zM9 17H7v-7h2v7zm4 0h-2V7h2v10zm4 0h-2v-4h2v4z\"/>\n",
              "    </g>\n",
              "</svg>\n",
              "  </button>\n",
              "\n",
              "<style>\n",
              "  .colab-df-quickchart {\n",
              "      --bg-color: #E8F0FE;\n",
              "      --fill-color: #1967D2;\n",
              "      --hover-bg-color: #E2EBFA;\n",
              "      --hover-fill-color: #174EA6;\n",
              "      --disabled-fill-color: #AAA;\n",
              "      --disabled-bg-color: #DDD;\n",
              "  }\n",
              "\n",
              "  [theme=dark] .colab-df-quickchart {\n",
              "      --bg-color: #3B4455;\n",
              "      --fill-color: #D2E3FC;\n",
              "      --hover-bg-color: #434B5C;\n",
              "      --hover-fill-color: #FFFFFF;\n",
              "      --disabled-bg-color: #3B4455;\n",
              "      --disabled-fill-color: #666;\n",
              "  }\n",
              "\n",
              "  .colab-df-quickchart {\n",
              "    background-color: var(--bg-color);\n",
              "    border: none;\n",
              "    border-radius: 50%;\n",
              "    cursor: pointer;\n",
              "    display: none;\n",
              "    fill: var(--fill-color);\n",
              "    height: 32px;\n",
              "    padding: 0;\n",
              "    width: 32px;\n",
              "  }\n",
              "\n",
              "  .colab-df-quickchart:hover {\n",
              "    background-color: var(--hover-bg-color);\n",
              "    box-shadow: 0 1px 2px rgba(60, 64, 67, 0.3), 0 1px 3px 1px rgba(60, 64, 67, 0.15);\n",
              "    fill: var(--button-hover-fill-color);\n",
              "  }\n",
              "\n",
              "  .colab-df-quickchart-complete:disabled,\n",
              "  .colab-df-quickchart-complete:disabled:hover {\n",
              "    background-color: var(--disabled-bg-color);\n",
              "    fill: var(--disabled-fill-color);\n",
              "    box-shadow: none;\n",
              "  }\n",
              "\n",
              "  .colab-df-spinner {\n",
              "    border: 2px solid var(--fill-color);\n",
              "    border-color: transparent;\n",
              "    border-bottom-color: var(--fill-color);\n",
              "    animation:\n",
              "      spin 1s steps(1) infinite;\n",
              "  }\n",
              "\n",
              "  @keyframes spin {\n",
              "    0% {\n",
              "      border-color: transparent;\n",
              "      border-bottom-color: var(--fill-color);\n",
              "      border-left-color: var(--fill-color);\n",
              "    }\n",
              "    20% {\n",
              "      border-color: transparent;\n",
              "      border-left-color: var(--fill-color);\n",
              "      border-top-color: var(--fill-color);\n",
              "    }\n",
              "    30% {\n",
              "      border-color: transparent;\n",
              "      border-left-color: var(--fill-color);\n",
              "      border-top-color: var(--fill-color);\n",
              "      border-right-color: var(--fill-color);\n",
              "    }\n",
              "    40% {\n",
              "      border-color: transparent;\n",
              "      border-right-color: var(--fill-color);\n",
              "      border-top-color: var(--fill-color);\n",
              "    }\n",
              "    60% {\n",
              "      border-color: transparent;\n",
              "      border-right-color: var(--fill-color);\n",
              "    }\n",
              "    80% {\n",
              "      border-color: transparent;\n",
              "      border-right-color: var(--fill-color);\n",
              "      border-bottom-color: var(--fill-color);\n",
              "    }\n",
              "    90% {\n",
              "      border-color: transparent;\n",
              "      border-bottom-color: var(--fill-color);\n",
              "    }\n",
              "  }\n",
              "</style>\n",
              "\n",
              "  <script>\n",
              "    async function quickchart(key) {\n",
              "      const quickchartButtonEl =\n",
              "        document.querySelector('#' + key + ' button');\n",
              "      quickchartButtonEl.disabled = true;  // To prevent multiple clicks.\n",
              "      quickchartButtonEl.classList.add('colab-df-spinner');\n",
              "      try {\n",
              "        const charts = await google.colab.kernel.invokeFunction(\n",
              "            'suggestCharts', [key], {});\n",
              "      } catch (error) {\n",
              "        console.error('Error during call to suggestCharts:', error);\n",
              "      }\n",
              "      quickchartButtonEl.classList.remove('colab-df-spinner');\n",
              "      quickchartButtonEl.classList.add('colab-df-quickchart-complete');\n",
              "    }\n",
              "    (() => {\n",
              "      let quickchartButtonEl =\n",
              "        document.querySelector('#df-9d30033d-bb0a-4b7b-8cc5-1a9ecdaa0765 button');\n",
              "      quickchartButtonEl.style.display =\n",
              "        google.colab.kernel.accessAllowed ? 'block' : 'none';\n",
              "    })();\n",
              "  </script>\n",
              "</div>\n",
              "\n",
              "  <div id=\"id_6f5b02f7-db35-44d8-aa32-0c23eba420f4\">\n",
              "    <style>\n",
              "      .colab-df-generate {\n",
              "        background-color: #E8F0FE;\n",
              "        border: none;\n",
              "        border-radius: 50%;\n",
              "        cursor: pointer;\n",
              "        display: none;\n",
              "        fill: #1967D2;\n",
              "        height: 32px;\n",
              "        padding: 0 0 0 0;\n",
              "        width: 32px;\n",
              "      }\n",
              "\n",
              "      .colab-df-generate:hover {\n",
              "        background-color: #E2EBFA;\n",
              "        box-shadow: 0px 1px 2px rgba(60, 64, 67, 0.3), 0px 1px 3px 1px rgba(60, 64, 67, 0.15);\n",
              "        fill: #174EA6;\n",
              "      }\n",
              "\n",
              "      [theme=dark] .colab-df-generate {\n",
              "        background-color: #3B4455;\n",
              "        fill: #D2E3FC;\n",
              "      }\n",
              "\n",
              "      [theme=dark] .colab-df-generate:hover {\n",
              "        background-color: #434B5C;\n",
              "        box-shadow: 0px 1px 3px 1px rgba(0, 0, 0, 0.15);\n",
              "        filter: drop-shadow(0px 1px 2px rgba(0, 0, 0, 0.3));\n",
              "        fill: #FFFFFF;\n",
              "      }\n",
              "    </style>\n",
              "    <button class=\"colab-df-generate\" onclick=\"generateWithVariable('merged_df')\"\n",
              "            title=\"Generate code using this dataframe.\"\n",
              "            style=\"display:none;\">\n",
              "\n",
              "  <svg xmlns=\"http://www.w3.org/2000/svg\" height=\"24px\"viewBox=\"0 0 24 24\"\n",
              "       width=\"24px\">\n",
              "    <path d=\"M7,19H8.4L18.45,9,17,7.55,7,17.6ZM5,21V16.75L18.45,3.32a2,2,0,0,1,2.83,0l1.4,1.43a1.91,1.91,0,0,1,.58,1.4,1.91,1.91,0,0,1-.58,1.4L9.25,21ZM18.45,9,17,7.55Zm-12,3A5.31,5.31,0,0,0,4.9,8.1,5.31,5.31,0,0,0,1,6.5,5.31,5.31,0,0,0,4.9,4.9,5.31,5.31,0,0,0,6.5,1,5.31,5.31,0,0,0,8.1,4.9,5.31,5.31,0,0,0,12,6.5,5.46,5.46,0,0,0,6.5,12Z\"/>\n",
              "  </svg>\n",
              "    </button>\n",
              "    <script>\n",
              "      (() => {\n",
              "      const buttonEl =\n",
              "        document.querySelector('#id_6f5b02f7-db35-44d8-aa32-0c23eba420f4 button.colab-df-generate');\n",
              "      buttonEl.style.display =\n",
              "        google.colab.kernel.accessAllowed ? 'block' : 'none';\n",
              "\n",
              "      buttonEl.onclick = () => {\n",
              "        google.colab.notebook.generateWithVariable('merged_df');\n",
              "      }\n",
              "      })();\n",
              "    </script>\n",
              "  </div>\n",
              "\n",
              "    </div>\n",
              "  </div>\n"
            ],
            "application/vnd.google.colaboratory.intrinsic+json": {
              "type": "dataframe",
              "variable_name": "merged_df"
            }
          },
          "metadata": {},
          "execution_count": 22
        }
      ]
    },
    {
      "cell_type": "code",
      "source": [
        "merged_df.columns"
      ],
      "metadata": {
        "colab": {
          "base_uri": "https://localhost:8080/"
        },
        "id": "RIn9WMeeBQ8I",
        "outputId": "71b819b4-9fc4-4192-fcfb-13052b7bc4f1"
      },
      "execution_count": null,
      "outputs": [
        {
          "output_type": "execute_result",
          "data": {
            "text/plain": [
              "Index(['name', 'productID', 'image', 'price', 'description', 'userID',\n",
              "       'overall'],\n",
              "      dtype='object')"
            ]
          },
          "metadata": {},
          "execution_count": 23
        }
      ]
    },
    {
      "cell_type": "code",
      "source": [
        "merged_df.shape"
      ],
      "metadata": {
        "colab": {
          "base_uri": "https://localhost:8080/"
        },
        "id": "p7aZcS0R18bF",
        "outputId": "947c3b6d-4670-4593-b54e-1a2e970c23fa"
      },
      "execution_count": null,
      "outputs": [
        {
          "output_type": "execute_result",
          "data": {
            "text/plain": [
              "(3127774, 7)"
            ]
          },
          "metadata": {},
          "execution_count": 24
        }
      ]
    },
    {
      "cell_type": "code",
      "source": [
        "merged_df.iloc[4]['description']"
      ],
      "metadata": {
        "colab": {
          "base_uri": "https://localhost:8080/"
        },
        "id": "M-k1G76s43D2",
        "outputId": "7c232593-ba03-47d1-a5b7-1c0a96a6f255"
      },
      "execution_count": null,
      "outputs": [
        {
          "output_type": "execute_result",
          "data": {
            "text/plain": [
              "[\"Steve Green: Hide 'em in Your Heart: 13 Bible Memory Music Videos for Children of All Ages [VHS]\"]"
            ]
          },
          "metadata": {},
          "execution_count": 25
        }
      ]
    },
    {
      "cell_type": "markdown",
      "source": [
        "The following code cell sets up the image and description columns"
      ],
      "metadata": {
        "id": "YwCf8rCRJhLy"
      }
    },
    {
      "cell_type": "code",
      "source": [
        "def get_first_element(lst):\n",
        "  \"\"\"\n",
        "  This function gets the image url and description from the rows of the image\n",
        "  and description column which are essentiely lists.\n",
        "\n",
        "  :input:   The row being a list\n",
        "  :return:  The string representing the image URL/Description or None if there\n",
        "  is nothing.\n",
        "  \"\"\"\n",
        "\n",
        "  if lst and len(lst) > 0:\n",
        "    return lst[0]\n",
        "  else:\n",
        "    return None"
      ],
      "metadata": {
        "id": "CLQm1unmr3zr"
      },
      "execution_count": null,
      "outputs": []
    },
    {
      "cell_type": "code",
      "source": [
        "merged_df['image'] = merged_df['image'].apply(get_first_element)"
      ],
      "metadata": {
        "id": "20QGTBG3r9ud"
      },
      "execution_count": null,
      "outputs": []
    },
    {
      "cell_type": "code",
      "source": [
        "merged_df['description'] = merged_df['description'].apply(get_first_element)"
      ],
      "metadata": {
        "id": "AaQe4ZFa6t41"
      },
      "execution_count": null,
      "outputs": []
    },
    {
      "cell_type": "markdown",
      "source": [
        "The following code cells attempt to set all non available prices to None, those that are available already starts with '$' and have a price"
      ],
      "metadata": {
        "id": "wMJ5OyFY7OQz"
      }
    },
    {
      "cell_type": "code",
      "source": [
        "def starts_with_dollar(value):\n",
        "    \"\"\"\n",
        "    This function checks wether the value which is a string starts with a dollar\n",
        "    sign or not.\n",
        "\n",
        "    :entry:   A string to check.\n",
        "    :return:  True, if the string starts with a dollar sign.\n",
        "              Else, False.\n",
        "    \"\"\"\n",
        "\n",
        "    if isinstance(value, str) and value.startswith('$'):\n",
        "        return True\n",
        "    else:\n",
        "        return False\n",
        "\n",
        "def eleminateNonPrices(entry):\n",
        "    \"\"\"\n",
        "    This function returns either a string that is a price or None.\n",
        "\n",
        "    :entry:   A string to check.\n",
        "    :return:  The entry itself or None.\n",
        "    \"\"\"\n",
        "\n",
        "    if starts_with_dollar(entry):\n",
        "      return entry\n",
        "    else :\n",
        "      return None"
      ],
      "metadata": {
        "id": "i2WS89jgp1uU"
      },
      "execution_count": null,
      "outputs": []
    },
    {
      "cell_type": "code",
      "source": [
        "merged_df['price'] = merged_df['price'].apply(eleminateNonPrices)"
      ],
      "metadata": {
        "id": "fIqVB1T7p47u"
      },
      "execution_count": null,
      "outputs": []
    },
    {
      "cell_type": "code",
      "source": [
        "merged_df.iloc[2000]['price']"
      ],
      "metadata": {
        "id": "xeLERwtC7zcb"
      },
      "execution_count": null,
      "outputs": []
    },
    {
      "cell_type": "code",
      "source": [
        "def setUp_price(entry):\n",
        "  \"\"\"\n",
        "  This function returns the entry which is a string representing a price as a\n",
        "  float object.\n",
        "\n",
        "  :entry:   A string representing the price.\n",
        "  :return:  The price as a float object.\n",
        "  \"\"\"\n",
        "\n",
        "  if entry is not None:\n",
        "    entry = entry.replace('$', '').replace(',', '').replace('.', '')\n",
        "    if ('-' in entry):\n",
        "      entry.split('-') # Some entries have ranges of prices instead of a fixed one\n",
        "      entry = (float(entry[0]) + float(entry[1])) / 2\n",
        "    return float(entry)\n",
        "  return None"
      ],
      "metadata": {
        "id": "2o2TjUk4KJxD"
      },
      "execution_count": null,
      "outputs": []
    },
    {
      "cell_type": "code",
      "source": [
        "merged_df['price'] = merged_df['price'].apply(setUp_price)"
      ],
      "metadata": {
        "id": "mx_4OVlMKMgG"
      },
      "execution_count": null,
      "outputs": []
    },
    {
      "cell_type": "code",
      "source": [
        "import re\n",
        "\n",
        "def clean(lst):\n",
        "    if isinstance(lst, str):\n",
        "        cleaned_description = re.sub(r'<[^>]+>', '', lst)\n",
        "        cleaned_description = cleaned_description.strip()\n",
        "        return cleaned_description\n",
        "    else:\n",
        "        return None"
      ],
      "metadata": {
        "id": "3mBfr25OusSo"
      },
      "execution_count": null,
      "outputs": []
    },
    {
      "cell_type": "code",
      "source": [
        "merged_df['description']"
      ],
      "metadata": {
        "colab": {
          "base_uri": "https://localhost:8080/"
        },
        "id": "1vAr6lu4RFsT",
        "outputId": "c8f1a8e3-990a-487b-c131-9989bff4db8c"
      },
      "execution_count": null,
      "outputs": [
        {
          "output_type": "execute_result",
          "data": {
            "text/plain": [
              "0          Steve Green: Hide 'em in Your Heart: 13 Bible ...\n",
              "1          Steve Green: Hide 'em in Your Heart: 13 Bible ...\n",
              "2          Steve Green: Hide 'em in Your Heart: 13 Bible ...\n",
              "3          Steve Green: Hide 'em in Your Heart: 13 Bible ...\n",
              "4          Steve Green: Hide 'em in Your Heart: 13 Bible ...\n",
              "                                 ...                        \n",
              "3127769                                                 None\n",
              "3127770                                                 None\n",
              "3127771                                                 None\n",
              "3127772                                                 None\n",
              "3127773                                                 None\n",
              "Name: description, Length: 3127774, dtype: object"
            ]
          },
          "metadata": {},
          "execution_count": 35
        }
      ]
    },
    {
      "cell_type": "code",
      "source": [
        "merged_df['description'] = merged_df['description'].apply(clean)"
      ],
      "metadata": {
        "id": "cOl0wfsKKXXs"
      },
      "execution_count": null,
      "outputs": []
    },
    {
      "cell_type": "code",
      "source": [
        "merged_df = merged_df.drop_duplicates()"
      ],
      "metadata": {
        "id": "TWsNAyyfRssd"
      },
      "execution_count": null,
      "outputs": []
    },
    {
      "cell_type": "markdown",
      "source": [
        "### -------------- First fork, for a 20K rows sample --------------"
      ],
      "metadata": {
        "id": "6iLilmCvNC3f"
      }
    },
    {
      "cell_type": "markdown",
      "source": [
        "We will filter from the prvious merged Dataframe only rows having more than 50 instances"
      ],
      "metadata": {
        "id": "30gZ7a-DBSoR"
      }
    },
    {
      "cell_type": "code",
      "source": [
        "counts = merged_df['productID'].value_counts()\n",
        "productIDs_more_than_50 = counts[counts > 50].index.tolist()\n",
        "filtered_df = merged_df[merged_df['productID'].isin(productIDs_more_than_50)]\n"
      ],
      "metadata": {
        "id": "mqFDk5HRAmKP"
      },
      "execution_count": null,
      "outputs": []
    },
    {
      "cell_type": "markdown",
      "source": [
        "After filtering, we will only take 20000 record from the datasset since anymore would not work with SVD"
      ],
      "metadata": {
        "id": "2hySM2EfCw-V"
      }
    },
    {
      "cell_type": "code",
      "source": [
        "tosendDF = merged_df.sample(20000)"
      ],
      "metadata": {
        "id": "6BXApl3PCery"
      },
      "execution_count": null,
      "outputs": []
    },
    {
      "cell_type": "code",
      "source": [
        "tosendDF.to_csv('Movies_and_TVMerged-20000Sample-withMetaData.csv', index=False)"
      ],
      "metadata": {
        "id": "UfdGr8bRCwYb"
      },
      "execution_count": null,
      "outputs": []
    },
    {
      "cell_type": "code",
      "source": [
        "tosendDF.columns"
      ],
      "metadata": {
        "colab": {
          "base_uri": "https://localhost:8080/"
        },
        "id": "yRxClLgCO4AL",
        "outputId": "a79dd0eb-b863-42da-955f-16bd49734c56"
      },
      "execution_count": null,
      "outputs": [
        {
          "output_type": "execute_result",
          "data": {
            "text/plain": [
              "Index(['name', 'productID', 'image', 'price', 'description', 'userID',\n",
              "       'overall'],\n",
              "      dtype='object')"
            ]
          },
          "metadata": {},
          "execution_count": 43
        }
      ]
    },
    {
      "cell_type": "code",
      "source": [
        "tosendDF.drop(columns=['name', 'image', 'price', 'description'], inplace=True)"
      ],
      "metadata": {
        "id": "hLdVb408OySh"
      },
      "execution_count": null,
      "outputs": []
    },
    {
      "cell_type": "code",
      "source": [
        "tosendDF.to_csv('Movies_and_TVMerged-20000Sample-importantColumns.csv', index=False)"
      ],
      "metadata": {
        "id": "cidPJ6ssOtpD"
      },
      "execution_count": null,
      "outputs": []
    },
    {
      "cell_type": "markdown",
      "source": [
        "### -------------- Second fork, for only 100 rows from the dataset --------------"
      ],
      "metadata": {
        "id": "JNpcqBO2Mt_o"
      }
    },
    {
      "cell_type": "code",
      "source": [
        "df_first100 = tmpDF.head(100)"
      ],
      "metadata": {
        "id": "IfF42f2ZVXDy"
      },
      "execution_count": null,
      "outputs": []
    },
    {
      "cell_type": "code",
      "source": [
        "anotherDF = tmpDF.sample(100)"
      ],
      "metadata": {
        "id": "mY5sZqvMUe5C"
      },
      "execution_count": null,
      "outputs": []
    },
    {
      "cell_type": "code",
      "source": [
        "anotherDF"
      ],
      "metadata": {
        "id": "JQfXihWy2L9m"
      },
      "execution_count": null,
      "outputs": []
    },
    {
      "cell_type": "markdown",
      "source": [
        "The following code blocks are the set up for sending them to the website's database"
      ],
      "metadata": {
        "id": "0GvZpJWsk5k-"
      }
    },
    {
      "cell_type": "code",
      "source": [
        "anotherDF.to_csv('Movies_and_TVMerged-random100.csv', index=False)"
      ],
      "metadata": {
        "id": "k_o3CQB2lFRi"
      },
      "execution_count": null,
      "outputs": []
    },
    {
      "cell_type": "code",
      "source": [
        "df_first100.to_csv('Movies_and_TVMerged-first100.csv', index=False)"
      ],
      "metadata": {
        "id": "tuC1_V9fVz6T"
      },
      "execution_count": null,
      "outputs": []
    },
    {
      "cell_type": "code",
      "source": [
        "sample100 = df0.sample(100)"
      ],
      "metadata": {
        "id": "kVrCXjIGcTPD"
      },
      "execution_count": null,
      "outputs": []
    },
    {
      "cell_type": "code",
      "source": [
        "first100 = df0.head(100)"
      ],
      "metadata": {
        "id": "1i39OLiwcZcH"
      },
      "execution_count": null,
      "outputs": []
    },
    {
      "cell_type": "code",
      "source": [
        "# sample100.to_csv('moviesAndTvsMerged-random100.csv', index=False)"
      ],
      "metadata": {
        "id": "0K5fC6IwceIw"
      },
      "execution_count": null,
      "outputs": []
    },
    {
      "cell_type": "code",
      "source": [
        "# first100.to_csv('moviesAndTvsMerged-first100.csv', index=False)"
      ],
      "metadata": {
        "id": "pweuWW53ctm9"
      },
      "execution_count": null,
      "outputs": []
    },
    {
      "cell_type": "code",
      "source": [
        "main_path = '/content/drive/MyDrive/RECsys/Website-DataSetUp/'\n",
        "file_type = '-random100.csv'\n",
        "files = ['Movies_and_TVMerged', 'videoGamesMerged', 'Grocery_and_Gourmet_FoodMerged', 'Digital_MusicMerged']\n",
        "\n",
        "finalDF = pd.read_csv(main_path + files[0] + file_type)\n",
        "for file in files[1:]:\n",
        "  tmpDF = pd.read_csv(main_path + file + file_type)\n",
        "  finalDF = pd.concat([finalDF, tmpDF], ignore_index=True)"
      ],
      "metadata": {
        "id": "GAfwzMIw0Szw"
      },
      "execution_count": null,
      "outputs": []
    },
    {
      "cell_type": "code",
      "source": [
        "finalDF.to_csv('finalData.csv', index=False)"
      ],
      "metadata": {
        "id": "QP2HXPII2eHn"
      },
      "execution_count": null,
      "outputs": []
    }
  ]
}